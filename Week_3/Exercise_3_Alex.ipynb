{
 "cells": [
  {
   "metadata": {},
   "cell_type": "markdown",
   "source": [
    "# EXERCISE 3 - ENERGINET OPTIMAL POWER FLOW PROBLEM"
   ],
   "id": "3f107fb14c6860bb"
  },
  {
   "metadata": {},
   "cell_type": "markdown",
   "source": [
    "## Imports"
   ],
   "id": "c5bad4d228f0eb7d"
  },
  {
   "metadata": {
    "ExecuteTime": {
     "end_time": "2024-09-23T20:37:38.860655200Z",
     "start_time": "2024-09-23T20:37:38.853553200Z"
    }
   },
   "cell_type": "code",
   "source": [
    "import gurobipy as gp\n",
    "from gurobipy import GRB\n",
    "import numpy as np"
   ],
   "id": "b6d7fac998165248",
   "outputs": [],
   "execution_count": 2
  },
  {
   "metadata": {},
   "cell_type": "markdown",
   "source": [
    "## Statement"
   ],
   "id": "c74ecfca3be68662"
  },
  {
   "metadata": {},
   "cell_type": "markdown",
   "source": [
    "We consider a 3-bus power system comprising 3 generators: G1 at node n1 , G2 at node n2 ,\n",
    "G3 at node n3 , and 1 inflexible load: D1 at node n3."
   ],
   "id": "bdcd1b1d78c1bb8d"
  },
  {
   "metadata": {},
   "cell_type": "markdown",
   "source": [
    "   - c: cost\n",
    "   - q: max capacity\n",
    "   - x: reactance\n",
    "   - Load: inflexible load\n",
    "  - p: production"
   ],
   "id": "ca9a2a24b3b05ba7"
  },
  {
   "metadata": {},
   "cell_type": "markdown",
   "source": [
    "Costs 3 generators"
   ],
   "id": "b940301b4eee71c1"
  },
  {
   "metadata": {
    "ExecuteTime": {
     "end_time": "2024-09-23T20:37:40.694381800Z",
     "start_time": "2024-09-23T20:37:40.669542700Z"
    }
   },
   "cell_type": "code",
   "source": [
    "G1_c = 70\n",
    "G2_c = 15\n",
    "G3_c = 150"
   ],
   "id": "a9cb7436ebff95a2",
   "outputs": [],
   "execution_count": 3
  },
  {
   "metadata": {},
   "cell_type": "markdown",
   "source": [
    "Max capacity 3 generators"
   ],
   "id": "43599bf56e7ee75b"
  },
  {
   "metadata": {
    "ExecuteTime": {
     "end_time": "2024-09-23T20:37:41.509329800Z",
     "start_time": "2024-09-23T20:37:41.501677700Z"
    }
   },
   "cell_type": "code",
   "source": [
    "G1_q = 150\n",
    "G2_q = 150\n",
    "G3_q = 150"
   ],
   "id": "202c648012c070c1",
   "outputs": [],
   "execution_count": 4
  },
  {
   "metadata": {},
   "cell_type": "markdown",
   "source": [
    "Inflexible load"
   ],
   "id": "ffa5245ce5a84920"
  },
  {
   "metadata": {
    "ExecuteTime": {
     "end_time": "2024-09-23T20:37:42.342681400Z",
     "start_time": "2024-09-23T20:37:42.330497500Z"
    }
   },
   "cell_type": "code",
   "source": [
    "Load = 200"
   ],
   "id": "aef231c4a1208cc6",
   "outputs": [],
   "execution_count": 5
  },
  {
   "metadata": {},
   "cell_type": "markdown",
   "source": [
    "Reactance 3 lines"
   ],
   "id": "25c6fd2319e28185"
  },
  {
   "metadata": {
    "ExecuteTime": {
     "end_time": "2024-09-23T20:37:43.111787200Z",
     "start_time": "2024-09-23T20:37:43.099253500Z"
    }
   },
   "cell_type": "code",
   "source": [
    "L12_x = 0.4\n",
    "L23_x = 0.4\n",
    "L13_x = 0.4"
   ],
   "id": "76725a836ba96026",
   "outputs": [],
   "execution_count": 6
  },
  {
   "metadata": {},
   "cell_type": "markdown",
   "source": [
    "Max flow 3 lines"
   ],
   "id": "4edfb7ee520f100a"
  },
  {
   "metadata": {
    "ExecuteTime": {
     "end_time": "2024-09-23T20:37:43.887367700Z",
     "start_time": "2024-09-23T20:37:43.860303600Z"
    }
   },
   "cell_type": "code",
   "source": [
    "L12_q = 150\n",
    "L23_q = 150\n",
    "L13_q = 150"
   ],
   "id": "9fed5af66de4bf2f",
   "outputs": [],
   "execution_count": 7
  },
  {
   "metadata": {},
   "cell_type": "markdown",
   "source": [
    "## Resolution"
   ],
   "id": "d3156f44f1170c3f"
  },
  {
   "metadata": {},
   "cell_type": "markdown",
   "source": [
    "### a)"
   ],
   "id": "3ed7b8fe2cb878e0"
  },
  {
   "metadata": {},
   "cell_type": "markdown",
   "source": [
    "Formulate the optimal power flow problem in this system, using the DC linearization of the power flow equations. Specify the number of variables and constraints."
   ],
   "id": "b330db4945b34c39"
  },
  {
   "metadata": {
    "ExecuteTime": {
     "end_time": "2024-09-23T20:46:38.777179300Z",
     "start_time": "2024-09-23T20:46:38.737215500Z"
    }
   },
   "cell_type": "code",
   "source": [
    "model = gp.Model(\"Ex3\")\n",
    "\n",
    "#Variables generator productions\n",
    "G1_p = model.addVar(name='Production Generator 1')\n",
    "G2_p = model.addVar(name='Production Generator 2')\n",
    "G3_p = model.addVar(name='Production Generator 3')\n",
    "\n",
    "#Variables node angles\n",
    "n1_a = model.addVar(name='Angle node 1') # Reference angle\n",
    "n2_a = model.addVar(name='Angle node 2')\n",
    "n3_a = model.addVar(name='Angle node 3')\n",
    "\n",
    "\n",
    "#Constrains nodes\n",
    "n1_cons = model.addLConstr(1/(L12_x)*(n1_a - n2_a) + 1/(L13_x)*(n1_a - n3_a), GRB.EQUAL, G1_p)\n",
    "n2_cons = model.addLConstr(1/(L12_x)*(n1_a - n2_a) - 1/(L23_x)*(n2_a - n3_a), GRB.EQUAL, G2_p)\n",
    "n3_cons = model.addLConstr(-1/(L13_x)*(n1_a - n3_a) - 1/(L23_x)*(n2_a - n3_a) + Load, GRB.EQUAL, G3_p)\n",
    "\n",
    "#Constrains lines\n",
    "L12_consUP = model.addLConstr(1/(L12_x)*(n1_a - n2_a), GRB.LESS_EQUAL, L12_q)\n",
    "L12_consDOWN = model.addLConstr(1/(L12_x)*(n1_a - n2_a), GRB.GREATER_EQUAL, -L12_q)\n",
    "L23_consUP = model.addLConstr(1/(L23_x)*(n2_a - n3_a), GRB.LESS_EQUAL, L23_q)\n",
    "L23_consDOWN = model.addLConstr(1/(L23_x)*(n2_a - n3_a), GRB.GREATER_EQUAL, -L23_q)\n",
    "L13_consUP = model.addLConstr(1/(L13_x)*(n1_a - n3_a), GRB.LESS_EQUAL, L13_q)\n",
    "L13_consDOWN = model.addLConstr(1/(L13_x)*(n1_a - n3_a), GRB.GREATER_EQUAL, -L13_q)\n",
    "\n",
    "#Constrains Generator max power\n",
    "G1_consUP = model.addLConstr(G1_p, GRB.GREATER_EQUAL, 0)\n",
    "G1_consDOWN = model.addLConstr(G1_p, GRB.LESS_EQUAL, G1_q)\n",
    "G2_consUP = model.addLConstr(G2_p, GRB.GREATER_EQUAL, 0)\n",
    "G2_consDOWN = model.addLConstr(G2_p, GRB.LESS_EQUAL, G2_q)\n",
    "G3_consUP = model.addLConstr(G3_p, GRB.GREATER_EQUAL, 0)\n",
    "G3_consDOWN = model.addLConstr(G3_p, GRB.LESS_EQUAL, G3_q)\n",
    "\n",
    "#Constrains nodes angles\n",
    "#n1_a_consUP = model.addLConstr(n1_a, GRB.GREATER_EQUAL, - np.pi)\n",
    "#n1_a_consDOWN = model.addLConstr(n1_a, GRB.LESS_EQUAL, np.pi)\n",
    "n2_a_consUP = model.addLConstr(n2_a, GRB.GREATER_EQUAL, - np.pi)\n",
    "n2_a_consDOWN = model.addLConstr(n2_a, GRB.LESS_EQUAL, np.pi)\n",
    "n3_a_consUP = model.addLConstr(n3_a, GRB.GREATER_EQUAL, - np.pi)\n",
    "n3_a_consDOWN = model.addLConstr(n3_a, GRB.LESS_EQUAL, np.pi)\n",
    "\n",
    "#Constrain reference angle, reference angle chosen n1_a\n",
    "ref_a_cons = model.addLConstr(n1_a, GRB.EQUAL, 0)\n",
    "\n",
    "\n",
    "#Objective Function\n",
    "model.setObjective(G1_c*G1_p + G2_c*G2_p + G3_c*G3_p, GRB.MINIMIZE)\n",
    "\n",
    "model.optimize()"
   ],
   "id": "b6779c309017097",
   "outputs": [
    {
     "name": "stdout",
     "output_type": "stream",
     "text": [
      "Gurobi Optimizer version 11.0.1 build v11.0.1rc0 (win64 - Windows 11.0 (22631.2))\n",
      "\n",
      "CPU model: Intel(R) Core(TM) i7-10700T CPU @ 2.00GHz, instruction set [SSE2|AVX|AVX2]\n",
      "Thread count: 8 physical cores, 16 logical processors, using up to 16 threads\n",
      "\n",
      "Optimize a model with 20 rows, 6 columns and 35 nonzeros\n",
      "Model fingerprint: 0x4a212a48\n",
      "Coefficient statistics:\n",
      "  Matrix range     [1e+00, 5e+00]\n",
      "  Objective range  [2e+01, 2e+02]\n",
      "  Bounds range     [0e+00, 0e+00]\n",
      "  RHS range        [3e+00, 2e+02]\n",
      "Presolve removed 19 rows and 5 columns\n",
      "Presolve time: 0.00s\n",
      "\n",
      "Solved in 0 iterations and 0.00 seconds (0.00 work units)\n",
      "Infeasible model\n"
     ]
    }
   ],
   "execution_count": 9
  },
  {
   "metadata": {
    "ExecuteTime": {
     "end_time": "2024-09-18T09:31:47.051072Z",
     "start_time": "2024-09-18T09:31:47.046068Z"
    }
   },
   "cell_type": "code",
   "source": [
    "if model.status == GRB.OPTIMAL:\n",
    "    optimal_objective = model.ObjVal\n",
    "    optimal_x_G1 = x_G1.x\n",
    "    optimal_x_G2 = x_G2.x\n",
    "    optimal_x_G3 = x_G3.x\n",
    "    optimal_dual_1 = constraint_1.Pi\n",
    "    optimal_dual_2 = constraint_2.Pi\n",
    "    optimal_dual_3 = constraint_3.Pi\n",
    "    optimal_dual_4 = constraint_4.Pi\n",
    "    print(f\"optimal objective: {optimal_objective}\")\n",
    "    print(f\"optimal value of {x_G1.VarName}: {optimal_x_G1}\")\n",
    "    print(f\"optimal value of {x_G2.VarName}: {optimal_x_G2}\")\n",
    "    print(f\"optimal value of {x_G3.VarName}: {optimal_x_G3}\")\n",
    "else:\n",
    "    print(f\"optimization of {model.ModelName} was not successful\")"
   ],
   "id": "efef4855fc9999ab",
   "outputs": [
    {
     "data": {
      "text/plain": [
       "3.141592653589793"
      ]
     },
     "execution_count": 9,
     "metadata": {},
     "output_type": "execute_result"
    }
   ],
   "execution_count": 9
  },
  {
   "cell_type": "code",
   "outputs": [
    {
     "name": "stdout",
     "output_type": "stream",
     "text": [
      "Gurobi Optimizer version 11.0.1 build v11.0.1rc0 (win64 - Windows 11.0 (22631.2))\n",
      "CPU model: Intel(R) Core(TM) i7-10700T CPU @ 2.00GHz, instruction set [SSE2|AVX|AVX2]\n",
      "Thread count: 8 physical cores, 16 logical processors, using up to 16 threads\n",
      "\n",
      "Optimize a model with 9 rows, 8 columns and 19 nonzeros\n",
      "Model fingerprint: 0x1e6c83da\n",
      "Coefficient statistics:\n",
      "  Matrix range     [1e+00, 3e+00]\n",
      "  Objective range  [2e+01, 2e+02]\n",
      "  Bounds range     [2e+02, 2e+02]\n",
      "  RHS range        [2e+02, 2e+02]\n",
      "Presolve removed 9 rows and 8 columns\n",
      "Presolve time: 0.00s\n",
      "Presolve: All rows and columns removed\n",
      "Iteration    Objective       Primal Inf.    Dual Inf.      Time\n",
      "       0    1.8000000e+04   0.000000e+00   0.000000e+00      0s\n",
      "\n",
      "Solved in 0 iterations and 0.01 seconds (0.00 work units)\n",
      "Optimal objective  1.800000000e+04\n",
      "Optimal solution found:\n",
      "Generation by G1: 150.0 MW\n",
      "Generation by G2: 0.0 MW\n",
      "Generation by G3: 50.0 MW\n",
      "Power flow from n1 to n2: 50.0 MW\n",
      "Power flow from n2 to n3: 50.0 MW\n",
      "Power flow from n1 to n3: 100.0 MW\n",
      "Total cost: 18000.0\n"
     ]
    }
   ],
   "source": [
    "import gurobipy as gp\n",
    "from gurobipy import GRB\n",
    "\n",
    "# Parameters\n",
    "G1_c = 70\n",
    "G2_c = 15\n",
    "G3_c = 150\n",
    "\n",
    "G1_q = 150\n",
    "G2_q = 150\n",
    "G3_q = 150\n",
    "\n",
    "Load = 200\n",
    "\n",
    "L12_x = 0.4\n",
    "L23_x = 0.4\n",
    "L13_x = 0.4\n",
    "\n",
    "L12_q = 150 \n",
    "L23_q = 150\n",
    "L13_q = 150\n",
    "\n",
    "# Create a new Gurobi model\n",
    "m = gp.Model(\"Optimal Power Flow\")\n",
    "\n",
    "# Decision variables\n",
    "P_G1 = m.addVar(lb=0, ub=G1_q, name=\"P_G1\")  # Power generation by G1\n",
    "P_G2 = m.addVar(lb=0, ub=G2_q, name=\"P_G2\")  # Power generation by G2\n",
    "P_G3 = m.addVar(lb=0, ub=G3_q, name=\"P_G3\")  # Power generation by G3\n",
    "theta_2 = m.addVar(lb=-GRB.INFINITY, name=\"theta_2\")  # Phase angle at n2\n",
    "theta_3 = m.addVar(lb=-GRB.INFINITY, name=\"theta_3\")  # Phase angle at n3\n",
    "\n",
    "# Power flows between buses as decision variables\n",
    "P_12 = m.addVar(lb=-L12_q, ub=L12_q, name=\"P_12\")  # Power flow from n1 to n2\n",
    "P_23 = m.addVar(lb=-L23_q, ub=L23_q, name=\"P_23\")  # Power flow from n2 to n3\n",
    "P_13 = m.addVar(lb=-L13_q, ub=L13_q, name=\"P_13\")  # Power flow from n1 to n3\n",
    "\n",
    "# Objective: Minimize total generation cost\n",
    "m.setObjective(G1_c * P_G1 + G2_c * P_G2 + G3_c * P_G3, GRB.MINIMIZE)\n",
    "\n",
    "# Constraints\n",
    "# Power balance at bus n1 (n1 has G1 and lines n1-n2, n1-n3)\n",
    "m.addConstr(P_G1 == P_12 + P_13, \"Power_balance_n1\")\n",
    "\n",
    "# Power balance at bus n2 (n2 has G2, line n1-n2, and line n2-n3)\n",
    "m.addConstr(P_G2 == P_12 - P_23, \"Power_balance_n2\")\n",
    "\n",
    "# Power balance at bus n3 (n3 has G3, load D1, and lines n1-n3 and n2-n3)\n",
    "m.addConstr(P_G3 + P_23 + P_13 == Load, \"Power_balance_n3\")\n",
    "\n",
    "# Power flow equations (DC power flow approximation)\n",
    "m.addConstr(P_12 == (0 - theta_2) / L12_x, \"Flow_n1_n2\")  # Theta_1 is 0 (reference bus)\n",
    "m.addConstr(P_23 == (theta_2 - theta_3) / L23_x, \"Flow_n2_n3\")\n",
    "m.addConstr(P_13 == (0 - theta_3) / L13_x, \"Flow_n1_n3\")  # Theta_1 is 0\n",
    "\n",
    "# Generation limits (already implicitly defined by lb/ub in decision variables)\n",
    "m.addConstr(P_G1 <= G1_q, \"Gen_limit_G1\")\n",
    "m.addConstr(P_G2 <= G2_q, \"Gen_limit_G2\")\n",
    "m.addConstr(P_G3 <= G3_q, \"Gen_limit_G3\")\n",
    "\n",
    "# Line flow limits are automatically handled by the bounds in P_12, P_23, and P_13\n",
    "\n",
    "# Solve the model\n",
    "m.optimize()\n",
    "\n",
    "# Check if the solution is optimal\n",
    "if m.status == GRB.OPTIMAL:\n",
    "    print(\"Optimal solution found:\")\n",
    "    print(f\"Generation by G1: {P_G1.X} MW\")\n",
    "    print(f\"Generation by G2: {P_G2.X} MW\")\n",
    "    print(f\"Generation by G3: {P_G3.X} MW\")\n",
    "    print(f\"Power flow from n1 to n2: {P_12.X} MW\")\n",
    "    print(f\"Power flow from n2 to n3: {P_23.X} MW\")\n",
    "    print(f\"Power flow from n1 to n3: {P_13.X} MW\")\n",
    "    print(f\"Total cost: {m.objVal}\")\n",
    "else:\n",
    "    print(\"No optimal solution found.\")\n"
   ],
   "metadata": {
    "collapsed": false,
    "ExecuteTime": {
     "end_time": "2024-09-23T20:31:10.748653300Z",
     "start_time": "2024-09-23T20:31:10.717180800Z"
    }
   },
   "id": "edcfd98d96a12fb6",
   "execution_count": 4
  },
  {
   "cell_type": "code",
   "outputs": [],
   "source": [],
   "metadata": {
    "collapsed": false
   },
   "id": "cf64ba961bf84d36"
  },
  {
   "cell_type": "markdown",
   "source": [
    "## b)"
   ],
   "metadata": {
    "collapsed": false
   },
   "id": "d8cb63c6dacaf95d"
  },
  {
   "cell_type": "markdown",
   "source": [
    "Are the solutions of the Economic Dispatch (ED) problem from Exercise 2 feasible for this DC power flow equations? If not, which constraints are violated?"
   ],
   "metadata": {
    "collapsed": false
   },
   "id": "a4a3ea5697071a80"
  },
  {
   "cell_type": "code",
   "outputs": [],
   "source": [],
   "metadata": {
    "collapsed": false
   },
   "id": "76f5f7385771d670"
  }
 ],
 "metadata": {
  "kernelspec": {
   "display_name": "Python 3",
   "language": "python",
   "name": "python3"
  },
  "language_info": {
   "codemirror_mode": {
    "name": "ipython",
    "version": 2
   },
   "file_extension": ".py",
   "mimetype": "text/x-python",
   "name": "python",
   "nbconvert_exporter": "python",
   "pygments_lexer": "ipython2",
   "version": "2.7.6"
  }
 },
 "nbformat": 4,
 "nbformat_minor": 5
}
