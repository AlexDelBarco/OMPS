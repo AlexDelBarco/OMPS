{
 "cells": [
  {
   "metadata": {},
   "cell_type": "markdown",
   "source": "# EXERCISE 3 - ENERGINET OPTIMAL POWER FLOW PROBLEM",
   "id": "3f107fb14c6860bb"
  },
  {
   "metadata": {},
   "cell_type": "markdown",
   "source": "## Imports",
   "id": "c5bad4d228f0eb7d"
  },
  {
   "metadata": {
    "ExecuteTime": {
     "end_time": "2024-09-18T09:41:21.863836Z",
     "start_time": "2024-09-18T09:41:21.861781Z"
    }
   },
   "cell_type": "code",
   "source": [
    "import gurobipy as gp\n",
    "from gurobipy import GRB\n",
    "import numpy as np"
   ],
   "id": "b6d7fac998165248",
   "outputs": [],
   "execution_count": 10
  },
  {
   "metadata": {},
   "cell_type": "markdown",
   "source": "## Statement",
   "id": "c74ecfca3be68662"
  },
  {
   "metadata": {},
   "cell_type": "markdown",
   "source": [
    "We consider a 3-bus power system comprising 3 generators: G1 at node n1 , G2 at node n2 ,\n",
    "G3 at node n3 , and 1 inflexible load: D1 at node n3."
   ],
   "id": "bdcd1b1d78c1bb8d"
  },
  {
   "metadata": {},
   "cell_type": "markdown",
   "source": [
    "   - c: cost\n",
    "   - q: max capacity\n",
    "   - x: reactance\n",
    "   - Load: inflexible load\n",
    "  - p: production"
   ],
   "id": "ca9a2a24b3b05ba7"
  },
  {
   "metadata": {},
   "cell_type": "markdown",
   "source": "Costs 3 generators",
   "id": "b940301b4eee71c1"
  },
  {
   "metadata": {
    "ExecuteTime": {
     "end_time": "2024-09-18T09:41:21.884315Z",
     "start_time": "2024-09-18T09:41:21.882247Z"
    }
   },
   "cell_type": "code",
   "source": [
    "G1_c = 70\n",
    "G2_c = 15\n",
    "G3_c = 150"
   ],
   "id": "a9cb7436ebff95a2",
   "outputs": [],
   "execution_count": 11
  },
  {
   "metadata": {},
   "cell_type": "markdown",
   "source": "Max capacity 3 generators",
   "id": "43599bf56e7ee75b"
  },
  {
   "metadata": {
    "ExecuteTime": {
     "end_time": "2024-09-18T09:41:21.886635Z",
     "start_time": "2024-09-18T09:41:21.885114Z"
    }
   },
   "cell_type": "code",
   "source": [
    "G1_q = 150\n",
    "G2_q = 150\n",
    "G3_q = 150"
   ],
   "id": "202c648012c070c1",
   "outputs": [],
   "execution_count": 12
  },
  {
   "metadata": {},
   "cell_type": "markdown",
   "source": "Inflexible load",
   "id": "ffa5245ce5a84920"
  },
  {
   "metadata": {
    "ExecuteTime": {
     "end_time": "2024-09-18T09:41:21.888869Z",
     "start_time": "2024-09-18T09:41:21.887075Z"
    }
   },
   "cell_type": "code",
   "source": "Load = 200",
   "id": "aef231c4a1208cc6",
   "outputs": [],
   "execution_count": 13
  },
  {
   "metadata": {},
   "cell_type": "markdown",
   "source": "Reactance 3 lines",
   "id": "25c6fd2319e28185"
  },
  {
   "metadata": {
    "ExecuteTime": {
     "end_time": "2024-09-18T09:41:21.891062Z",
     "start_time": "2024-09-18T09:41:21.889570Z"
    }
   },
   "cell_type": "code",
   "source": [
    "L12_x = 0.4\n",
    "L23_x = 0.4\n",
    "L13_x = 0.4"
   ],
   "id": "76725a836ba96026",
   "outputs": [],
   "execution_count": 14
  },
  {
   "metadata": {},
   "cell_type": "markdown",
   "source": "Max flow 3 lines",
   "id": "4edfb7ee520f100a"
  },
  {
   "metadata": {
    "ExecuteTime": {
     "end_time": "2024-09-18T09:41:21.893309Z",
     "start_time": "2024-09-18T09:41:21.891510Z"
    }
   },
   "cell_type": "code",
   "source": [
    "L12_q = 150\n",
    "L23_q = 150\n",
    "L13_q = 150"
   ],
   "id": "9fed5af66de4bf2f",
   "outputs": [],
   "execution_count": 15
  },
  {
   "metadata": {},
   "cell_type": "markdown",
   "source": "## Resolution",
   "id": "d3156f44f1170c3f"
  },
  {
   "metadata": {},
   "cell_type": "markdown",
   "source": "### a)",
   "id": "3ed7b8fe2cb878e0"
  },
  {
   "metadata": {},
   "cell_type": "markdown",
   "source": [
    "Formulate the optimal power flow problem in this system, using the DC linearization\n",
    "of the power flow equations. Specify the number of variables and constraints."
   ],
   "id": "b330db4945b34c39"
  },
  {
   "metadata": {
    "ExecuteTime": {
     "end_time": "2024-09-18T09:44:48.185539Z",
     "start_time": "2024-09-18T09:44:48.176553Z"
    }
   },
   "cell_type": "code",
   "source": [
    "model = gp.Model(\"Ex3\")\n",
    "\n",
    "#Variables generator productions\n",
    "G1_p = model.addVar(name='Production Generator 1')\n",
    "G2_p = model.addVar(name='Production Generator 2')\n",
    "G3_p = model.addVar(name='Production Generator 3')\n",
    "\n",
    "#Variables node angles\n",
    "n1_a = model.addVar(name='Angle node 1')\n",
    "n2_a = model.addVar(name='Angle node 2')\n",
    "n3_a = model.addVar(name='Angle node 3')\n",
    "\n",
    "\n",
    "#Constrains nodes\n",
    "n1_cons = model.addLConstr(1/(L12_x)*(n1_a - n2_a) + 1/(L13_x)*(n1_a - n3_a), GRB.EQUAL, G1_p)\n",
    "n2_cons = model.addLConstr(1/(L12_x)*(n2_a - n1_a) + 1/(L23_x)*(n2_a - n3_a), GRB.EQUAL, G2_p)\n",
    "n3_cons = model.addLConstr(1/(L13_x)*(n3_a - n1_a) + 1/(L23_x)*(n3_a - n2_a) + Load, GRB.EQUAL, G3_p)\n",
    "\n",
    "#Constrains lines\n",
    "L12_consUP = model.addLConstr(1/(L12_x)*(n1_a - n2_a), GRB.LESS_EQUAL, L12_q)\n",
    "L12_consDOWN = model.addLConstr(1/(L12_x)*(n1_a - n2_a), GRB.GREATER_EQUAL, -L12_q)\n",
    "L23_consUP = model.addLConstr(1/(L23_x)*(n2_a - n3_a), GRB.LESS_EQUAL, L23_q)\n",
    "L23_consDOWN = model.addLConstr(1/(L23_x)*(n2_a - n3_a), GRB.GREATER_EQUAL, -L23_q)\n",
    "L13_consUP = model.addLConstr(1/(L13_x)*(n1_a - n3_a), GRB.LESS_EQUAL, L13_q)\n",
    "L13_consDOWN = model.addLConstr(1/(L13_x)*(n1_a - n3_a), GRB.GREATER_EQUAL, -L13_q)\n",
    "\n",
    "#Constrains Generator max power\n",
    "G1_consUP = model.addLConstr(G1_p, GRB.GREATER_EQUAL, 0)\n",
    "G1_consDOWN = model.addLConstr(G1_p, GRB.LESS_EQUAL, G1_q)\n",
    "G2_consUP = model.addLConstr(G2_p, GRB.GREATER_EQUAL, 0)\n",
    "G2_consDOWN = model.addLConstr(G2_p, GRB.LESS_EQUAL, G2_q)\n",
    "G3_consUP = model.addLConstr(G3_p, GRB.GREATER_EQUAL, 0)\n",
    "G3_consDOWN = model.addLConstr(G3_p, GRB.LESS_EQUAL, G3_q)\n",
    "\n",
    "#Constrains nodes angles\n",
    "#n1_a_consUP = model.addLConstr(n1_a, GRB.GREATER_EQUAL, - np.pi)\n",
    "#n1_a_consDOWN = model.addLConstr(n1_a, GRB.LESS_EQUAL, np.pi)\n",
    "n2_a_consUP = model.addLConstr(n2_a, GRB.GREATER_EQUAL, - np.pi)\n",
    "n2_a_consDOWN = model.addLConstr(n2_a, GRB.LESS_EQUAL, np.pi)\n",
    "n3_a_consUP = model.addLConstr(n3_a, GRB.GREATER_EQUAL, - np.pi)\n",
    "n3_a_consDOWN = model.addLConstr(n3_a, GRB.LESS_EQUAL, np.pi)\n",
    "\n",
    "#Constrain reference angle, reference angle chosen n1_a\n",
    "ref_a_cons = model.addLConstr(n1_a, GRB.EQUAL, 0)\n",
    "\n",
    "\n",
    "#Objective Function\n",
    "model.setObjective(G1_c*G1_p + G2_c*G2_p + G3_c*G3_p, GRB.MINIMIZE)\n",
    "\n",
    "model.optimize()"
   ],
   "id": "b6779c309017097",
   "outputs": [
    {
     "name": "stdout",
     "output_type": "stream",
     "text": [
      "Gurobi Optimizer version 11.0.3 build v11.0.3rc0 (linux64 - \"Ubuntu 22.04.3 LTS\")\n",
      "\n",
      "CPU model: AMD Ryzen 7 7840U with Radeon 780M Graphics, instruction set [SSE2|AVX|AVX2|AVX512]\n",
      "Thread count: 8 physical cores, 16 logical processors, using up to 16 threads\n",
      "\n",
      "Optimize a model with 20 rows, 6 columns and 35 nonzeros\n",
      "Model fingerprint: 0x87891033\n",
      "Coefficient statistics:\n",
      "  Matrix range     [1e+00, 5e+00]\n",
      "  Objective range  [2e+01, 2e+02]\n",
      "  Bounds range     [0e+00, 0e+00]\n",
      "  RHS range        [3e+00, 2e+02]\n",
      "Presolve time: 0.00s\n",
      "\n",
      "Solved in 0 iterations and 0.00 seconds (0.00 work units)\n",
      "Infeasible model\n"
     ]
    }
   ],
   "execution_count": 17
  },
  {
   "metadata": {
    "ExecuteTime": {
     "end_time": "2024-09-18T09:31:47.051072Z",
     "start_time": "2024-09-18T09:31:47.046068Z"
    }
   },
   "cell_type": "code",
   "source": [
    "if model.status == GRB.OPTIMAL:\n",
    "    optimal_objective = model.ObjVal\n",
    "    optimal_x_G1 = x_G1.x\n",
    "    optimal_x_G2 = x_G2.x\n",
    "    optimal_x_G3 = x_G3.x\n",
    "    optimal_dual_1 = constraint_1.Pi\n",
    "    optimal_dual_2 = constraint_2.Pi\n",
    "    optimal_dual_3 = constraint_3.Pi\n",
    "    optimal_dual_4 = constraint_4.Pi\n",
    "    print(f\"optimal objective: {optimal_objective}\")\n",
    "    print(f\"optimal value of {x_G1.VarName}: {optimal_x_G1}\")\n",
    "    print(f\"optimal value of {x_G2.VarName}: {optimal_x_G2}\")\n",
    "    print(f\"optimal value of {x_G3.VarName}: {optimal_x_G3}\")\n",
    "else:\n",
    "    print(f\"optimization of {model.ModelName} was not successful\")"
   ],
   "id": "efef4855fc9999ab",
   "outputs": [
    {
     "data": {
      "text/plain": [
       "3.141592653589793"
      ]
     },
     "execution_count": 9,
     "metadata": {},
     "output_type": "execute_result"
    }
   ],
   "execution_count": 9
  },
  {
   "metadata": {},
   "cell_type": "code",
   "outputs": [],
   "execution_count": null,
   "source": "pi",
   "id": "55c7572986d25d5f"
  }
 ],
 "metadata": {
  "kernelspec": {
   "display_name": "Python 3",
   "language": "python",
   "name": "python3"
  },
  "language_info": {
   "codemirror_mode": {
    "name": "ipython",
    "version": 2
   },
   "file_extension": ".py",
   "mimetype": "text/x-python",
   "name": "python",
   "nbconvert_exporter": "python",
   "pygments_lexer": "ipython2",
   "version": "2.7.6"
  }
 },
 "nbformat": 4,
 "nbformat_minor": 5
}
