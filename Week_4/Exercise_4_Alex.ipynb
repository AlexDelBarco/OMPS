{
 "cells": [
  {
   "cell_type": "markdown",
   "source": [
    "# Exercise 4 - Lagrangian Duality and Optimisation Conditions"
   ],
   "metadata": {
    "collapsed": false
   },
   "id": "1bd2cd4852f5b679"
  },
  {
   "cell_type": "markdown",
   "source": [
    "## Imports"
   ],
   "metadata": {
    "collapsed": false
   },
   "id": "fff9daccb8c2bac5"
  },
  {
   "cell_type": "code",
   "outputs": [],
   "source": [
    "import numpy as np\n",
    "from gurobipy import Model, GRB, quicksum"
   ],
   "metadata": {
    "collapsed": false,
    "ExecuteTime": {
     "end_time": "2024-09-30T21:15:50.783592Z",
     "start_time": "2024-09-30T21:15:50.622371Z"
    }
   },
   "id": "c63adac4f13a7c9c",
   "execution_count": 1
  },
  {
   "cell_type": "markdown",
   "source": [
    "## Statement"
   ],
   "metadata": {
    "collapsed": false
   },
   "id": "b54da1201f9eaaac"
  },
  {
   "cell_type": "code",
   "outputs": [],
   "source": [
    "# Parameters\n",
    "alpha = [0.1, 0.04, 0.2]  # Cost coefficient for p_i^2\n",
    "beta = [70, 15, 150]           # Cost coefficient for p_i\n",
    "P_max = [150, 150, 150]         # Maximum generation capacity\n",
    "P_D = 200                  # Inflexible Demand"
   ],
   "metadata": {
    "collapsed": false,
    "ExecuteTime": {
     "end_time": "2024-09-30T21:19:56.326484700Z",
     "start_time": "2024-09-30T21:19:56.311454500Z"
    }
   },
   "id": "246a704696daebb3",
   "execution_count": 2
  },
  {
   "cell_type": "markdown",
   "source": [
    "The production cost is:\n",
    "\n",
    "$$\n",
    "    C{i}^{G} = \\alpha_{i}^{G}(p_{i})^{2} + \\beta_{i}^{G}p_{i}\n",
    "$$"
   ],
   "metadata": {
    "collapsed": false
   },
   "id": "a8af306172c0f9ab"
  },
  {
   "cell_type": "markdown",
   "source": [
    "## a) and b)"
   ],
   "metadata": {
    "collapsed": false
   },
   "id": "400fa98ae6818f7a"
  },
  {
   "cell_type": "code",
   "outputs": [
    {
     "name": "stdout",
     "output_type": "stream",
     "text": [
      "Restricted license - for non-production use only - expires 2025-11-24\n",
      "Gurobi Optimizer version 11.0.1 build v11.0.1rc0 (win64 - Windows 11.0 (22631.2))\n",
      "\n",
      "CPU model: Intel(R) Core(TM) i7-10700T CPU @ 2.00GHz, instruction set [SSE2|AVX|AVX2]\n",
      "Thread count: 8 physical cores, 16 logical processors, using up to 16 threads\n",
      "\n",
      "Optimize a model with 1 rows, 3 columns and 3 nonzeros\n",
      "Model fingerprint: 0x51cea1ee\n",
      "Model has 3 quadratic objective terms\n",
      "Coefficient statistics:\n",
      "  Matrix range     [1e+00, 1e+00]\n",
      "  Objective range  [2e+01, 2e+02]\n",
      "  QObjective range [8e-02, 4e-01]\n",
      "  Bounds range     [2e+02, 2e+02]\n",
      "  RHS range        [2e+02, 2e+02]\n",
      "Presolve time: 0.01s\n",
      "Presolved: 1 rows, 3 columns, 3 nonzeros\n",
      "Presolved model has 3 quadratic objective terms\n",
      "Ordering time: 0.00s\n",
      "\n",
      "Barrier statistics:\n",
      " AA' NZ     : 0.000e+00\n",
      " Factor NZ  : 1.000e+00\n",
      " Factor Ops : 1.000e+00 (less than 1 second per iteration)\n",
      " Threads    : 1\n",
      "\n",
      "                  Objective                Residual\n",
      "Iter       Primal          Dual         Primal    Dual     Compl     Time\n",
      "   0   3.82721188e+06 -3.74981466e+06  2.50e+03 8.00e+02  1.02e+06     0s\n",
      "   1   1.74684571e+04 -5.48181975e+05  2.50e-03 8.00e-04  2.36e+04     0s\n",
      "   2   1.66683580e+04  1.60316555e+03  3.97e-05 1.27e-05  6.28e+02     0s\n",
      "   3   7.64139239e+03  5.41808685e+03  3.97e-11 1.27e-11  9.26e+01     0s\n",
      "   4   6.91260769e+03  6.89310115e+03  0.00e+00 5.33e-15  8.13e-01     0s\n",
      "   5   6.90001261e+03  6.89999310e+03  0.00e+00 1.78e-15  8.13e-04     0s\n",
      "   6   6.90000001e+03  6.89999999e+03  7.11e-15 3.74e-15  8.14e-07     0s\n",
      "   7   6.90000000e+03  6.90000000e+03  7.11e-15 8.88e-15  8.14e-10     0s\n",
      "\n",
      "Barrier solved model in 7 iterations and 0.03 seconds (0.00 work units)\n",
      "Optimal objective 6.90000000e+03\n",
      "\n",
      "Optimal generation levels:\n",
      "Generator G1: 50.00 MWh\n",
      "Generator G2: 150.00 MWh\n",
      "Generator G3: 0.00 MWh\n",
      "Total generation cost: 6900.00 DKK\n"
     ]
    }
   ],
   "source": [
    "#Optimisation\n",
    "\n",
    "model = Model(\"economic_dispatch\")\n",
    "\n",
    "# Add variables: Generation levels for G1, G2, G3\n",
    "p = model.addVars(3, lb=0, ub=P_max, name=\"p\")\n",
    "\n",
    "# Set objective: Minimize the total production cost\n",
    "model.setObjective(quicksum(alpha[i] * p[i] * p[i] + beta[i] * p[i] for i in range(3)), GRB.MINIMIZE)\n",
    "\n",
    "# Add demand constraint: Total generation must meet demand\n",
    "model.addConstr(quicksum(p[i] for i in range(3)) == P_D, \"demand\")\n",
    "\n",
    "# Optimize the model\n",
    "model.optimize()\n",
    "\n",
    "# Display results\n",
    "if model.status == GRB.OPTIMAL:\n",
    "    print(\"Optimal generation levels:\")\n",
    "    for i in range(3):\n",
    "        print(f\"Generator G{i+1}: {p[i].X:.2f} MWh\")\n",
    "    print(f\"Total generation cost: {model.objVal:.2f} DKK\")\n",
    "else:\n",
    "    print(\"Optimization was not successful\")\n"
   ],
   "metadata": {
    "collapsed": false,
    "ExecuteTime": {
     "end_time": "2024-09-30T21:19:57.031960400Z",
     "start_time": "2024-09-30T21:19:56.978135100Z"
    }
   },
   "id": "8071343da7a283e3",
   "execution_count": 3
  },
  {
   "cell_type": "markdown",
   "source": [
    "## c)"
   ],
   "metadata": {
    "collapsed": false
   },
   "id": "e84b9edad58e9d3c"
  },
  {
   "cell_type": "markdown",
   "source": [
    "The cost function for each generator is quadratic with a positive coefficient alpha, it is convex. The equality constrain and it bounds are linear. It is convex"
   ],
   "metadata": {
    "collapsed": false
   },
   "id": "dd9248c5ad77d567"
  },
  {
   "cell_type": "markdown",
   "source": [
    "## d)"
   ],
   "metadata": {
    "collapsed": false
   },
   "id": "ef70e824e1f180f9"
  },
  {
   "cell_type": "markdown",
   "source": [
    "The Lagrangian function \\( L \\) for the economic dispatch problem is given by:\n",
    "\n",
    "$$\n",
    "L(p_1, p_2, p_3, \\lambda) = \\sum_{i=1}^3 \\left( \\alpha_{G_i} p_i^2 + \\beta_{G_i} p_i \\right) + \\lambda \\left( P_D - \\sum_{i=1}^3 p_i \\right)\n",
    "$$\n",
    "\n",
    "Breaking it down:\n",
    "\n",
    "$$\n",
    "L(p_1, p_2, p_3, \\lambda) = (\\alpha_{G_1} p_1^2 + \\beta_{G_1} p_1) + (\\alpha_{G_2} p_2^2 + \\beta_{G_2} p_2) + (\\alpha_{G_3} p_3^2 + \\beta_{G_3} p_3) + \\lambda \\left( P_D - (p_1 + p_2 + p_3) \\right)\n",
    "$$\n",
    "\n",
    "Where:\n",
    "- $( p_i )$ represents the power output of generator \\( i \\).\n",
    "- $( \\lambda )$ is the Lagrange multiplier associated with the demand constraint.\n",
    "- $( P_D )$ is the total demand to be met.\n",
    "\n"
   ],
   "metadata": {
    "collapsed": false
   },
   "id": "1708216aa5d66b3e"
  },
  {
   "cell_type": "markdown",
   "source": [
    "## e)"
   ],
   "metadata": {
    "collapsed": false
   },
   "id": "b37e2d6ef1c06b17"
  },
  {
   "cell_type": "markdown",
   "source": [
    "The cost function becomes linear. The KKT conditions reduce to the primal-dual optimality conditions of a linear program, where the marginal costs are equalized across generators to determine the optimal dispatch."
   ],
   "metadata": {
    "collapsed": false
   },
   "id": "4e516cdcd4f79842"
  },
  {
   "cell_type": "markdown",
   "source": [
    "## f)"
   ],
   "metadata": {
    "collapsed": false
   },
   "id": "38a1c9bd963c9730"
  },
  {
   "cell_type": "code",
   "outputs": [],
   "source": [],
   "metadata": {
    "collapsed": false
   },
   "id": "df043b444f37211b"
  }
 ],
 "metadata": {
  "kernelspec": {
   "display_name": "Python 3",
   "language": "python",
   "name": "python3"
  },
  "language_info": {
   "codemirror_mode": {
    "name": "ipython",
    "version": 2
   },
   "file_extension": ".py",
   "mimetype": "text/x-python",
   "name": "python",
   "nbconvert_exporter": "python",
   "pygments_lexer": "ipython2",
   "version": "2.7.6"
  }
 },
 "nbformat": 4,
 "nbformat_minor": 5
}
