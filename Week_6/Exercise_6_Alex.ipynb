{
 "cells": [
  {
   "cell_type": "markdown",
   "source": [
    "# Exercise 6 - Optimal offering strategy of price-taker wind producer"
   ],
   "metadata": {
    "collapsed": false
   },
   "id": "eebdd6bc6b9f6ad0"
  },
  {
   "cell_type": "markdown",
   "source": [
    "## Imports"
   ],
   "metadata": {
    "collapsed": false
   },
   "id": "5c9b021cfe6b6caa"
  },
  {
   "cell_type": "code",
   "outputs": [],
   "source": [
    "from gurobipy import Model, GRB"
   ],
   "metadata": {
    "collapsed": false,
    "ExecuteTime": {
     "end_time": "2024-10-22T19:03:52.458802500Z",
     "start_time": "2024-10-22T19:03:52.408102500Z"
    }
   },
   "id": "4aab4691b5af0178",
   "execution_count": 2
  },
  {
   "cell_type": "markdown",
   "source": [
    "## Statement"
   ],
   "metadata": {
    "collapsed": false
   },
   "id": "eb7959503ceb0195"
  },
  {
   "cell_type": "code",
   "outputs": [],
   "source": [
    "prices = [10, 10, 30, 30]  # EUR/MWh\n",
    "productions = [125, 75, 125, 75]  # MWh\n",
    "probabilities = [0.25, 0.25, 0.25, 0.25]  # Probabilities for each scenario\n",
    "marginal_cost = 15  # EUR/MWh"
   ],
   "metadata": {
    "collapsed": false,
    "ExecuteTime": {
     "end_time": "2024-10-22T19:15:13.573047600Z",
     "start_time": "2024-10-22T19:15:13.554232300Z"
    }
   },
   "id": "c6b6446489abd3a",
   "execution_count": 4
  },
  {
   "cell_type": "markdown",
   "source": [
    "## Resolution"
   ],
   "metadata": {
    "collapsed": false
   },
   "id": "d110dba5050eadda"
  },
  {
   "cell_type": "markdown",
   "source": [
    "### a)"
   ],
   "metadata": {
    "collapsed": false
   },
   "id": "62655209b726a028"
  },
  {
   "cell_type": "markdown",
   "source": [
    "The possible scenarios for price and production are as follows:\n",
    "   - $\\(\\lambda = 10 \\, \\text{EUR/MWh}, P_{W1} = 125 \\, \\text{MWh} \\) (Probability = 0.25)$\n",
    "   - $\\(\\lambda = 10 \\, \\text{EUR/MWh}, P_{W1} = 75 \\, \\text{MWh} \\) (Probability = 0.25)$\n",
    "   - $\\(\\lambda = 30 \\, \\text{EUR/MWh}, P_{W1} = 125 \\, \\text{MWh} \\) (Probability = 0.25)$\n",
    "   - $\\(\\lambda = 30 \\, \\text{EUR/MWh}, P_{W1} = 75 \\, \\text{MWh} \\) (Probability = 0.25)$"
   ],
   "metadata": {
    "collapsed": false
   },
   "id": "5911bc5873198c9c"
  },
  {
   "cell_type": "markdown",
   "source": [
    "### b)"
   ],
   "metadata": {
    "collapsed": false
   },
   "id": "f47f9973a7064b26"
  },
  {
   "cell_type": "markdown",
   "source": [
    "The wind producer decides the amount of electricity to offer before knowing the actual price or wind production level. Once the offer is made, it can only be changed in the intradaya and balancing markets"
   ],
   "metadata": {
    "collapsed": false
   },
   "id": "a09a50df19f77243"
  },
  {
   "cell_type": "markdown",
   "source": [
    "### c)"
   ],
   "metadata": {
    "collapsed": false
   },
   "id": "22fc516386bd6dce"
  },
  {
   "cell_type": "markdown",
   "source": [
    "The objective of the wind producer is to maximize expected profit. The profit for each scenario is given by:\n",
    "\n",
    "$\n",
    "\\text{Profit} = (\\lambda - 15) \\times q\n",
    "$\n",
    "\n",
    "Where:\n",
    "- $q$ is the quantity of electricity offered in the day-ahead market.\n",
    "- $\\lambda$ is the electricity price.\n",
    "- 15 EUR/MWh is the marginal cost of production.\n",
    "\n",
    "The expected profit over all scenarios can be written as:\n",
    "\n",
    "$\n",
    "\\text{Expected Profit} = 0.25 \\times \\left[ (\\lambda_1 - 15) \\times q_1 + (\\lambda_2 - 15) \\times q_2 + \\dots \\right]\n",
    "$\n",
    "\n",
    "Subject to wind production constraints for each scenario."
   ],
   "metadata": {
    "collapsed": false
   },
   "id": "4e6f0a59665bfe46"
  },
  {
   "cell_type": "markdown",
   "source": [
    "### d)"
   ],
   "metadata": {
    "collapsed": false
   },
   "id": "cbcce02e24ed6133"
  },
  {
   "cell_type": "markdown",
   "source": [
    "For each scenario, the wind producer can only produce up to the available wind production"
   ],
   "metadata": {
    "collapsed": false
   },
   "id": "98ece5b9678491ae"
  },
  {
   "cell_type": "markdown",
   "source": [
    "### e)"
   ],
   "metadata": {
    "collapsed": false
   },
   "id": "7ac78b8a8feccdd"
  },
  {
   "cell_type": "code",
   "outputs": [
    {
     "name": "stdout",
     "output_type": "stream",
     "text": [
      "Gurobi Optimizer version 11.0.1 build v11.0.1rc0 (win64 - Windows 11.0 (22631.2))\n",
      "\n",
      "CPU model: Intel(R) Core(TM) i7-10700T CPU @ 2.00GHz, instruction set [SSE2|AVX|AVX2]\n",
      "Thread count: 8 physical cores, 16 logical processors, using up to 16 threads\n",
      "\n",
      "Optimize a model with 4 rows, 1 columns and 4 nonzeros\n",
      "Model fingerprint: 0xdc0b52c2\n",
      "Coefficient statistics:\n",
      "  Matrix range     [1e+00, 1e+00]\n",
      "  Objective range  [5e+00, 5e+00]\n",
      "  Bounds range     [0e+00, 0e+00]\n",
      "  RHS range        [8e+01, 1e+02]\n",
      "Presolve removed 4 rows and 1 columns\n",
      "Presolve time: 0.02s\n",
      "Presolve: All rows and columns removed\n",
      "Iteration    Objective       Primal Inf.    Dual Inf.      Time\n",
      "       0    3.7500000e+02   0.000000e+00   0.000000e+00      0s\n",
      "\n",
      "Solved in 0 iterations and 0.02 seconds (0.00 work units)\n",
      "Optimal objective  3.750000000e+02\n",
      "Optimal amount of electricity to offer: 75.00 MWh\n",
      "Expected profit: 375.00 EUR\n"
     ]
    }
   ],
   "source": [
    "model = Model('WindProducer')\n",
    "\n",
    "# Decision variable: q (offered electricity)\n",
    "q = model.addVar(lb=0, name=\"q\")  # Amount of electricity offered in the market\n",
    "\n",
    "# Objective function: Maximize expected profit\n",
    "expected_profit = sum(probabilities[i] * (prices[i] - marginal_cost) * q for i in range(4))\n",
    "model.setObjective(expected_profit, GRB.MAXIMIZE)\n",
    "\n",
    "# Constraints: Wind production limit for each scenario\n",
    "for i in range(4):\n",
    "    model.addConstr(q <= productions[i], f\"Production_limit_scenario_{i}\")\n",
    "\n",
    "# Solve the model\n",
    "model.optimize()\n",
    "\n",
    "# Output the results\n",
    "if model.status == GRB.OPTIMAL:\n",
    "    print(f\"Optimal amount of electricity to offer: {q.x:.2f} MWh\")\n",
    "    print(f\"Expected profit: {model.objVal:.2f} EUR\")"
   ],
   "metadata": {
    "collapsed": false,
    "ExecuteTime": {
     "end_time": "2024-10-22T19:15:16.910092600Z",
     "start_time": "2024-10-22T19:15:16.861720400Z"
    }
   },
   "id": "387909300c90c4fa",
   "execution_count": 5
  },
  {
   "cell_type": "code",
   "outputs": [],
   "source": [],
   "metadata": {
    "collapsed": false
   },
   "id": "ea60c29ea845fd8"
  }
 ],
 "metadata": {
  "kernelspec": {
   "display_name": "Python 3",
   "language": "python",
   "name": "python3"
  },
  "language_info": {
   "codemirror_mode": {
    "name": "ipython",
    "version": 2
   },
   "file_extension": ".py",
   "mimetype": "text/x-python",
   "name": "python",
   "nbconvert_exporter": "python",
   "pygments_lexer": "ipython2",
   "version": "2.7.6"
  }
 },
 "nbformat": 4,
 "nbformat_minor": 5
}
