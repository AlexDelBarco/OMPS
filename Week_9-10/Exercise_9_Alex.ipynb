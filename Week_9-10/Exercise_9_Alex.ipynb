{
 "cells": [
  {
   "metadata": {},
   "cell_type": "markdown",
   "source": [
    "# Exercise 9: "
   ],
   "id": "76297450aa0b11a"
  },
  {
   "metadata": {
    "ExecuteTime": {
     "end_time": "2024-11-19T21:31:40.623036300Z",
     "start_time": "2024-11-19T21:31:40.511816800Z"
    }
   },
   "cell_type": "code",
   "outputs": [
    {
     "name": "stdout",
     "output_type": "stream",
     "text": [
      "Restricted license - for non-production use only - expires 2025-11-24\n",
      "Gurobi Optimizer version 11.0.1 build v11.0.1rc0 (win64 - Windows 11.0 (22631.2))\n",
      "\n",
      "CPU model: Intel(R) Core(TM) i7-10700T CPU @ 2.00GHz, instruction set [SSE2|AVX|AVX2]\n",
      "Thread count: 8 physical cores, 16 logical processors, using up to 16 threads\n",
      "\n",
      "Optimize a model with 20 rows, 21 columns and 40 nonzeros\n",
      "Model fingerprint: 0x99a5f6ca\n",
      "Coefficient statistics:\n",
      "  Matrix range     [1e+00, 3e+01]\n",
      "  Objective range  [5e-02, 5e-02]\n",
      "  Bounds range     [2e+02, 2e+02]\n",
      "  RHS range        [4e+02, 4e+03]\n",
      "Presolve removed 8 rows and 8 columns\n",
      "Presolve time: 0.01s\n",
      "\n",
      "Solved in 0 iterations and 0.01 seconds (0.00 work units)\n",
      "Infeasible or unbounded model\n",
      "Gurobi Optimizer version 11.0.1 build v11.0.1rc0 (win64 - Windows 11.0 (22631.2))\n",
      "\n",
      "CPU model: Intel(R) Core(TM) i7-10700T CPU @ 2.00GHz, instruction set [SSE2|AVX|AVX2]\n",
      "Thread count: 8 physical cores, 16 logical processors, using up to 16 threads\n",
      "\n",
      "Optimize a model with 40 rows, 42 columns and 100 nonzeros\n",
      "Model fingerprint: 0xad1c3e55\n",
      "Coefficient statistics:\n",
      "  Matrix range     [1e+00, 3e+01]\n",
      "  Objective range  [3e-02, 5e-01]\n",
      "  Bounds range     [2e+02, 2e+02]\n",
      "  RHS range        [4e+02, 4e+03]\n",
      "Presolve removed 28 rows and 29 columns\n",
      "Presolve time: 0.00s\n",
      "\n",
      "Solved in 0 iterations and 0.00 seconds (0.00 work units)\n",
      "Infeasible or unbounded model\n"
     ]
    }
   ],
   "execution_count": 1,
   "source": [
    "from gurobipy import Model, GRB, quicksum\n",
    "\n",
    "# Data\n",
    "W_nom = 150  # MW\n",
    "c_GW1 = 15  # EUR/MWh\n",
    "lambda_DA = 20  # EUR/MWh\n",
    "lambda_B = [0, 7, 10, 15, 24, 26, 35, 40, 43, 50]  # Balancing prices\n",
    "P_W1 = [75, 125]  # Wind production levels\n",
    "prob_lambda_B = 0.1\n",
    "prob_P_W1 = 0.5\n",
    "\n",
    "# Probabilities of all scenarios\n",
    "scenarios = [(p, l) for p in P_W1 for l in lambda_B]\n",
    "scenario_probs = {s: prob_P_W1 * prob_lambda_B for s in scenarios}\n",
    "\n",
    "# (a) Profit Maximization\n",
    "model = Model(\"Profit Maximization\")\n",
    "\n",
    "# Decision variable: Quantity offered in the day-ahead market\n",
    "q = model.addVar(lb=0, ub=W_nom, name=\"q\")\n",
    "\n",
    "# Scenario-based profits\n",
    "profits = {}\n",
    "for (p, l) in scenarios:\n",
    "    profits[(p, l)] = model.addVar(name=f\"profit_{p}_{l}\")\n",
    "\n",
    "# Objective: Maximize expected profit\n",
    "model.setObjective(\n",
    "    quicksum(profits[s] * scenario_probs[s] for s in scenarios),\n",
    "    GRB.MAXIMIZE\n",
    ")\n",
    "\n",
    "# Constraints: Calculate profits for each scenario\n",
    "for (p, l) in scenarios:\n",
    "    imbalance = p - q\n",
    "    model.addConstr(\n",
    "        profits[(p, l)] == lambda_DA * q - c_GW1 * p + l * imbalance\n",
    "    )\n",
    "\n",
    "model.optimize()\n",
    "\n",
    "# Results for (a)\n",
    "if model.Status == GRB.OPTIMAL:\n",
    "    print(f\"Optimal q (day-ahead offer): {q.X}\")\n",
    "    for s in scenarios:\n",
    "        print(f\"Profit in scenario {s}: {profits[s].X}\")\n",
    "\n",
    "# (b) Risk Aversion with CVaR\n",
    "alpha = 0.95\n",
    "beta = 0.5  # Example risk-aversion parameter\n",
    "eta = model.addVar(name=\"eta\")\n",
    "z = {s: model.addVar(lb=0, name=f\"z_{s}\") for s in scenarios}\n",
    "\n",
    "# Update the objective to include CVaR\n",
    "model.setObjective(\n",
    "    (1 - beta) * quicksum(profits[s] * scenario_probs[s] for s in scenarios)\n",
    "    - beta * (eta + 1 / (1 - alpha) * quicksum(z[s] * scenario_probs[s] for s in scenarios)),\n",
    "    GRB.MAXIMIZE\n",
    ")\n",
    "\n",
    "# CVaR constraints\n",
    "for s in scenarios:\n",
    "    model.addConstr(z[s] >= eta - profits[s])\n",
    "\n",
    "model.optimize()\n",
    "\n",
    "# Results for (b)\n",
    "if model.Status == GRB.OPTIMAL:\n",
    "    print(f\"Optimal q (day-ahead offer): {q.X}\")\n",
    "    print(f\"CVaR Value: {eta.X}\")\n",
    "    for s in scenarios:\n",
    "        print(f\"Profit in scenario {s}: {profits[s].X}\")\n"
   ],
   "id": "4cb6685a3b8280a"
  },
  {
   "cell_type": "code",
   "outputs": [],
   "source": [],
   "metadata": {
    "collapsed": false
   },
   "id": "def7895847fbabf9"
  }
 ],
 "metadata": {
  "kernelspec": {
   "display_name": "Python 3",
   "language": "python",
   "name": "python3"
  },
  "language_info": {
   "codemirror_mode": {
    "name": "ipython",
    "version": 2
   },
   "file_extension": ".py",
   "mimetype": "text/x-python",
   "name": "python",
   "nbconvert_exporter": "python",
   "pygments_lexer": "ipython2",
   "version": "2.7.6"
  }
 },
 "nbformat": 4,
 "nbformat_minor": 5
}
