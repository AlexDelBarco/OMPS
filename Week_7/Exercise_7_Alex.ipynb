{
 "cells": [
  {
   "metadata": {},
   "cell_type": "markdown",
   "source": "# Exercise 7: Optimal offering strategy of price-taker wind producer",
   "id": "12ddf042aa617c98"
  },
  {
   "metadata": {},
   "cell_type": "markdown",
   "source": "## Imports",
   "id": "6db67d2b25e52cd6"
  },
  {
   "metadata": {},
   "cell_type": "code",
   "outputs": [],
   "execution_count": null,
   "source": "",
   "id": "9f709eca6f08b5f6"
  },
  {
   "metadata": {},
   "cell_type": "markdown",
   "source": "## Statement",
   "id": "69ed486004e2f4c9"
  },
  {
   "metadata": {},
   "cell_type": "code",
   "outputs": [],
   "execution_count": null,
   "source": [
    "prices = [20, 20, 15, 15]  # EUR/MWh\n",
    "productions = [125, 75, 125, 75]  # MWh\n",
    "probabilities = [0.25, 0.25, 0.25, 0.25]  # Probabilities for each scenario\n",
    "marginal_cost = 15  # EUR/MWh"
   ],
   "id": "71a35d088d674d17"
  }
 ],
 "metadata": {
  "kernelspec": {
   "display_name": "Python 3",
   "language": "python",
   "name": "python3"
  },
  "language_info": {
   "codemirror_mode": {
    "name": "ipython",
    "version": 2
   },
   "file_extension": ".py",
   "mimetype": "text/x-python",
   "name": "python",
   "nbconvert_exporter": "python",
   "pygments_lexer": "ipython2",
   "version": "2.7.6"
  }
 },
 "nbformat": 4,
 "nbformat_minor": 5
}
