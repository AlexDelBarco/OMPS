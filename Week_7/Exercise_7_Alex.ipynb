{
 "cells": [
  {
   "metadata": {},
   "cell_type": "markdown",
   "source": "# Exercise 7: Optimal offering strategy of price-taker wind producer",
   "id": "12ddf042aa617c98"
  },
  {
   "metadata": {},
   "cell_type": "markdown",
   "source": "## Imports",
   "id": "6db67d2b25e52cd6"
  },
  {
   "metadata": {
    "ExecuteTime": {
     "end_time": "2024-10-29T18:59:58.326809Z",
     "start_time": "2024-10-29T18:59:58.318669Z"
    }
   },
   "cell_type": "code",
   "source": [
    "import gurobipy as gp\n",
    "from gurobipy import GRB"
   ],
   "id": "9f709eca6f08b5f6",
   "outputs": [],
   "execution_count": 1
  },
  {
   "metadata": {},
   "cell_type": "markdown",
   "source": "## Statement",
   "id": "69ed486004e2f4c9"
  },
  {
   "metadata": {
    "ExecuteTime": {
     "end_time": "2024-10-29T18:59:59.252794Z",
     "start_time": "2024-10-29T18:59:59.247788Z"
    }
   },
   "cell_type": "code",
   "source": [
    "marginal_cost = 15  # EUR/MWh\n",
    "lambda_DA = 20  # EUR/MWh, Day-Ahead Market price\n",
    "\n",
    "# Probabilities and prices for balancing market\n",
    "lambda_B_prices = [15, 35]  # EUR/MWh for balancing market\n",
    "P_lambda_B = [0.5, 0.5]  # Probability of each price in balancing market\n",
    "\n",
    "# Probabilities and production levels for wind production\n",
    "P_W1_levels = [125, 75]  # MWh of wind production\n",
    "P_PW1 = [0.5, 0.5]  # Probability of each production level\n"
   ],
   "id": "71a35d088d674d17",
   "outputs": [],
   "execution_count": 2
  },
  {
   "metadata": {},
   "cell_type": "markdown",
   "source": "## Reolution ",
   "id": "cb70e922e9082c2"
  },
  {
   "metadata": {},
   "cell_type": "markdown",
   "source": "### b)",
   "id": "355ac98fe97968f1"
  },
  {
   "metadata": {
    "ExecuteTime": {
     "end_time": "2024-10-29T19:00:00.964044Z",
     "start_time": "2024-10-29T19:00:00.954279Z"
    }
   },
   "cell_type": "code",
   "source": [
    "def optimize_one_price():\n",
    "    \"\"\"Optimize expected profit under the one-price balancing scheme using Gurobi.\"\"\"\n",
    "    model = gp.Model(\"One_Price_Scheme\")\n",
    "\n",
    "    # Decision variable: x (amount offered in day-ahead market)\n",
    "    x = model.addVar(name=\"x\", vtype=GRB.CONTINUOUS, lb=0, ub=150)\n",
    "\n",
    "    # Objective: Expected profit calculation\n",
    "    expected_profit = 0\n",
    "    for i, lambda_B in enumerate(lambda_B_prices):\n",
    "        for j, PW1 in enumerate(P_W1_levels):\n",
    "            probability = P_lambda_B[i] * P_PW1[j]\n",
    "\n",
    "            # Revenue from day-ahead market\n",
    "            revenue_DA = lambda_DA * x\n",
    "\n",
    "            # Imbalance\n",
    "            imbalance = PW1 - x\n",
    "\n",
    "            # Revenue in the balancing market\n",
    "            revenue_B = lambda_B * imbalance\n",
    "\n",
    "            # Profit for this scenario\n",
    "            profit = revenue_DA + revenue_B - (marginal_cost * PW1)\n",
    "            expected_profit += probability * profit\n",
    "\n",
    "    # Set the objective function\n",
    "    model.setObjective(expected_profit, GRB.MAXIMIZE)\n",
    "\n",
    "    # Optimize\n",
    "    model.optimize()\n",
    "\n",
    "    # Output results\n",
    "    if model.status == GRB.OPTIMAL:\n",
    "        optimal_x = x.X\n",
    "        max_profit = model.ObjVal\n",
    "        print(\"One-Price Scheme Results:\")\n",
    "        print(f\"Optimal Offer (x): {optimal_x} MWh\")\n",
    "        print(f\"Maximum Expected Profit: {max_profit} EUR\")\n",
    "    else:\n",
    "        print(\"No optimal solution found for the one-price scheme.\")\n",
    "\n",
    "optimize_one_price()"
   ],
   "id": "4cfc26807babe484",
   "outputs": [
    {
     "name": "stdout",
     "output_type": "stream",
     "text": [
      "Set parameter Username\n",
      "Academic license - for non-commercial use only - expires 2025-03-07\n",
      "Gurobi Optimizer version 11.0.3 build v11.0.3rc0 (linux64 - \"Ubuntu 22.04.3 LTS\")\n",
      "\n",
      "CPU model: AMD Ryzen 7 7840U with Radeon 780M Graphics, instruction set [SSE2|AVX|AVX2|AVX512]\n",
      "Thread count: 8 physical cores, 16 logical processors, using up to 16 threads\n",
      "\n",
      "Optimize a model with 0 rows, 1 columns and 0 nonzeros\n",
      "Model fingerprint: 0xca78f4d2\n",
      "Coefficient statistics:\n",
      "  Matrix range     [0e+00, 0e+00]\n",
      "  Objective range  [5e+00, 5e+00]\n",
      "  Bounds range     [2e+02, 2e+02]\n",
      "  RHS range        [0e+00, 0e+00]\n",
      "Presolve removed 0 rows and 1 columns\n",
      "Presolve time: 0.00s\n",
      "Presolve: All rows and columns removed\n",
      "Iteration    Objective       Primal Inf.    Dual Inf.      Time\n",
      "       0    1.0000000e+03   0.000000e+00   0.000000e+00      0s\n",
      "\n",
      "Solved in 0 iterations and 0.00 seconds (0.00 work units)\n",
      "Optimal objective  1.000000000e+03\n",
      "One-Price Scheme Results:\n",
      "Optimal Offer (x): 0.0 MWh\n",
      "Maximum Expected Profit: 1000.0 EUR\n"
     ]
    }
   ],
   "execution_count": 3
  },
  {
   "metadata": {},
   "cell_type": "markdown",
   "source": "### c)",
   "id": "929329e19830dee4"
  },
  {
   "metadata": {
    "ExecuteTime": {
     "end_time": "2024-10-29T19:00:04.338968Z",
     "start_time": "2024-10-29T19:00:04.329939Z"
    }
   },
   "cell_type": "code",
   "source": [
    "def optimize_two_price():\n",
    "    \"\"\"Optimize expected profit under the two-price balancing scheme using Gurobi.\"\"\"\n",
    "    model = gp.Model(\"Two_Price_Scheme\")\n",
    "\n",
    "    # Decision variable: x (amount offered in day-ahead market)\n",
    "    x = model.addVar(name=\"x\", vtype=GRB.CONTINUOUS, lb=0, ub=150)\n",
    "\n",
    "    # Objective: Expected profit calculation\n",
    "    expected_profit = 0\n",
    "    for i, lambda_B in enumerate(lambda_B_prices):\n",
    "        for j, PW1 in enumerate(P_W1_levels):\n",
    "            probability = P_lambda_B[i] * P_PW1[j]\n",
    "\n",
    "            # Revenue from day-ahead market\n",
    "            revenue_DA = lambda_DA * x\n",
    "\n",
    "            # Imbalance (difference between production and offer)\n",
    "            imbalance = PW1 - x\n",
    "\n",
    "            # Define auxiliary variables for overproduction and underproduction revenue\n",
    "            overproduction_revenue = model.addVar(lb=0, name=f\"overproduction_revenue_{i}_{j}\")\n",
    "            underproduction_cost = model.addVar(lb=0, name=f\"underproduction_cost_{i}_{j}\")\n",
    "\n",
    "            # Constraints to define overproduction and underproduction revenue based on imbalance\n",
    "            model.addConstr(overproduction_revenue >= lambda_B * imbalance)\n",
    "            model.addConstr(overproduction_revenue >= 0)  # Only contribute when imbalance is positive\n",
    "\n",
    "            model.addConstr(underproduction_cost >= -lambda_B * imbalance)\n",
    "            model.addConstr(underproduction_cost >= 0)  # Only contribute when imbalance is negative\n",
    "\n",
    "            # Total revenue from balancing market for this scenario\n",
    "            revenue_B = overproduction_revenue - underproduction_cost\n",
    "\n",
    "            # Total profit for this scenario\n",
    "            cost = marginal_cost * PW1\n",
    "            profit = revenue_DA + revenue_B - cost\n",
    "            expected_profit += probability * profit\n",
    "\n",
    "    # Set the objective function\n",
    "    model.setObjective(expected_profit, GRB.MAXIMIZE)\n",
    "\n",
    "    # Optimize\n",
    "    model.optimize()\n",
    "\n",
    "    # Output results\n",
    "    if model.status == GRB.OPTIMAL:\n",
    "        optimal_x = x.X\n",
    "        max_profit = model.ObjVal\n",
    "        print(\"\\nTwo-Price Scheme Results:\")\n",
    "        print(f\"Optimal Offer (x): {optimal_x} MWh\")\n",
    "        print(f\"Maximum Expected Profit: {max_profit} EUR\")\n",
    "    else:\n",
    "        print(\"No optimal solution found for the two-price scheme.\")\n",
    "\n",
    "optimize_two_price()"
   ],
   "id": "cf8f6c78a46ea8e2",
   "outputs": [
    {
     "name": "stdout",
     "output_type": "stream",
     "text": [
      "Gurobi Optimizer version 11.0.3 build v11.0.3rc0 (linux64 - \"Ubuntu 22.04.3 LTS\")\n",
      "\n",
      "CPU model: AMD Ryzen 7 7840U with Radeon 780M Graphics, instruction set [SSE2|AVX|AVX2|AVX512]\n",
      "Thread count: 8 physical cores, 16 logical processors, using up to 16 threads\n",
      "\n",
      "Optimize a model with 16 rows, 9 columns and 24 nonzeros\n",
      "Model fingerprint: 0xc3376753\n",
      "Coefficient statistics:\n",
      "  Matrix range     [1e+00, 4e+01]\n",
      "  Objective range  [2e-01, 2e+01]\n",
      "  Bounds range     [2e+02, 2e+02]\n",
      "  RHS range        [1e+03, 4e+03]\n",
      "Presolve time: 0.00s\n",
      "\n",
      "Solved in 0 iterations and 0.00 seconds (0.00 work units)\n",
      "Infeasible or unbounded model\n",
      "No optimal solution found for the two-price scheme.\n"
     ]
    }
   ],
   "execution_count": 4
  }
 ],
 "metadata": {
  "kernelspec": {
   "display_name": "Python 3",
   "language": "python",
   "name": "python3"
  },
  "language_info": {
   "codemirror_mode": {
    "name": "ipython",
    "version": 2
   },
   "file_extension": ".py",
   "mimetype": "text/x-python",
   "name": "python",
   "nbconvert_exporter": "python",
   "pygments_lexer": "ipython2",
   "version": "2.7.6"
  }
 },
 "nbformat": 4,
 "nbformat_minor": 5
}
