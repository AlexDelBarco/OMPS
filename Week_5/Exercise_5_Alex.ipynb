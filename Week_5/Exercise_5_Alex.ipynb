{
 "cells": [
  {
   "cell_type": "markdown",
   "source": [
    "# Exercise 5 - Electricity Market Properties"
   ],
   "metadata": {
    "collapsed": false
   },
   "id": "949ed2ce5f36e15b"
  },
  {
   "cell_type": "markdown",
   "source": [
    "## Imports"
   ],
   "metadata": {
    "collapsed": false
   },
   "id": "6c17792ba0581971"
  },
  {
   "cell_type": "code",
   "outputs": [],
   "source": [
    "import gurobipy as gp\n",
    "from gurobipy import GRB"
   ],
   "metadata": {
    "collapsed": false,
    "ExecuteTime": {
     "end_time": "2024-10-08T17:21:21.505884700Z",
     "start_time": "2024-10-08T17:21:21.471978Z"
    }
   },
   "id": "a6f4635460a417d6",
   "execution_count": 6
  },
  {
   "cell_type": "markdown",
   "source": [
    "### Statement"
   ],
   "metadata": {
    "collapsed": false
   },
   "id": "d1735afc7014f915"
  },
  {
   "cell_type": "code",
   "outputs": [],
   "source": [
    "generators = ['W1', 'G1', 'G2']\n",
    "loads = ['D1', 'D2']\n",
    "\n",
    "# Costs and capacities for generators\n",
    "cost_beta = {'W1': 0, 'G1': 30, 'G2': 35}\n",
    "gen_capacity = {'W1': 80, 'G1': 80, 'G2': 80}\n",
    "\n",
    "# Utility and capacities for loads\n",
    "utility = {'D1': 40, 'D2': 20}\n",
    "load_capacity = {'D1': 100, 'D2': 50}"
   ],
   "metadata": {
    "collapsed": false,
    "ExecuteTime": {
     "end_time": "2024-10-08T17:21:21.506882700Z",
     "start_time": "2024-10-08T17:21:21.494916400Z"
    }
   },
   "id": "1b4509b0728b3233",
   "execution_count": 7
  },
  {
   "cell_type": "markdown",
   "source": [
    "### Resolution"
   ],
   "metadata": {
    "collapsed": false
   },
   "id": "228d60988bc8a9f5"
  },
  {
   "cell_type": "code",
   "outputs": [
    {
     "name": "stdout",
     "output_type": "stream",
     "text": [
      "Number of variables: 5\n",
      "Gurobi Optimizer version 11.0.1 build v11.0.1rc0 (win64 - Windows 11.0 (22631.2))\n",
      "\n",
      "CPU model: Intel(R) Core(TM) i7-10700T CPU @ 2.00GHz, instruction set [SSE2|AVX|AVX2]\n",
      "Thread count: 8 physical cores, 16 logical processors, using up to 16 threads\n",
      "\n",
      "Optimize a model with 7 rows, 5 columns and 11 nonzeros\n",
      "Model fingerprint: 0x907dd089\n",
      "Coefficient statistics:\n",
      "  Matrix range     [1e+00, 1e+00]\n",
      "  Objective range  [2e+01, 4e+01]\n",
      "  Bounds range     [5e+01, 1e+02]\n",
      "  RHS range        [8e+01, 8e+01]\n",
      "Presolve removed 6 rows and 0 columns\n",
      "Presolve time: 0.01s\n",
      "Presolved: 1 rows, 5 columns, 5 nonzeros\n",
      "Iteration    Objective       Primal Inf.    Dual Inf.      Time\n",
      "       0    5.0000000e+03   8.750000e+00   0.000000e+00      0s\n",
      "       1    3.4000000e+03   0.000000e+00   0.000000e+00      0s\n",
      "\n",
      "Solved in 1 iterations and 0.02 seconds (0.00 work units)\n",
      "Optimal objective  3.400000000e+03\n",
      "\n",
      "-------------------   RESULTS  -------------------\n",
      "Optimal social welfare: 3400.00\n",
      "\n",
      "Optimal generation levels:\n",
      "Generator W1: 80.00 MWh\n",
      "Generator G1: 20.00 MWh\n",
      "Generator G2: 0.00 MWh\n",
      "\n",
      "Optimal load levels:\n",
      "Load D1: 100.00 MWh\n",
      "Load D2: 0.00 MWh\n",
      "\n",
      "Optimal dual of balance equation: -30.000\n",
      "Slack in balance equation: 0.000\n",
      "\n",
      "Optimal duals of max production constraints:\n",
      "Dual U_W1: 0.000\n",
      "Slack U_W1: 0.000\n",
      "Dual U_G1: 0.000\n",
      "Slack U_G1: 60.000\n",
      "Dual U_G2: 0.000\n",
      "Slack U_G2: 80.000\n",
      "\n",
      "Optimal duals of min production constraints:\n",
      "Dual u_W1: 0.000\n",
      "Slack u_W1: -80.000\n",
      "Dual u_G1: 0.000\n",
      "Slack u_G1: -20.000\n",
      "Dual u_G2: 0.000\n",
      "Slack u_G2: -0.000\n"
     ]
    }
   ],
   "source": [
    "model = gp.Model('Electricity_Market')\n",
    "\n",
    "# Add variables for power generation and load\n",
    "pg = {g: model.addVar(lb=0, ub=gen_capacity[g], name='Power_Generation_in_{0}'.format(g)) for g in generators}\n",
    "ld = {d: model.addVar(lb=0, ub=load_capacity[d], name='Load_for_{0}'.format(d)) for d in loads}\n",
    "\n",
    "model.update()\n",
    "print(\"Number of variables:\", model.NumVars)\n",
    "\n",
    "# Objective function: Maximize social welfare = utility from consumers - cost of generation\n",
    "obj = (gp.quicksum(utility[d] * ld[d] for d in loads) -\n",
    "       gp.quicksum(cost_beta[g] * pg[g] for g in generators))\n",
    "\n",
    "model.setObjective(obj, GRB.MAXIMIZE)\n",
    "\n",
    "# Balance constraint: Total generation must meet total demand\n",
    "balance_constraint = model.addLConstr(\n",
    "    gp.quicksum(pg[g] for g in generators),\n",
    "    GRB.EQUAL,\n",
    "    gp.quicksum(ld[d] for d in loads),\n",
    "    name='Balance_Equation'\n",
    ")\n",
    "\n",
    "# Add generator constraints (implicit in variable bounds)\n",
    "max_production_constraint = {g: model.addConstr(pg[g] <= gen_capacity[g], name='Generator_{0}_Max_Production'.format(g)) for g in generators}\n",
    "\n",
    "# Add minimum production constraints (implicit as non-negativity)\n",
    "min_production_constraint = {g: model.addConstr(pg[g] >= 0, name='Generator_{0}_Min_Production'.format(g)) for g in generators}\n",
    "\n",
    "# Solve the model\n",
    "model.optimize()\n",
    "\n",
    "# Retrieve results\n",
    "if model.status == GRB.OPTIMAL:\n",
    "    print(\"\\n-------------------   RESULTS  -------------------\")\n",
    "    optimal_objective = model.ObjVal  # Save objective value of social welfare at optimality\n",
    "    constraints = model.getConstrs()  # List of constraints\n",
    "    optimal_sensitivities = [constraints[c].Pi for c in range(len(constraints))]  # Save value of dual variables for constraints\n",
    "\n",
    "    print(f\"Optimal social welfare: {optimal_objective:.2f}\")\n",
    "    \n",
    "    print(\"\\nOptimal generation levels:\")\n",
    "    for g in generators:\n",
    "        print(f\"Generator {g}: {pg[g].x:.2f} MWh\")\n",
    "    \n",
    "    print(\"\\nOptimal load levels:\")\n",
    "    for d in loads:\n",
    "        print(f\"Load {d}: {ld[d].x:.2f} MWh\")\n",
    "\n",
    "    # Dual values for the balance equation\n",
    "    print(f'\\nOptimal dual of balance equation: {balance_constraint.Pi:.3f}')\n",
    "    print(f'Slack in balance equation: {balance_constraint.Slack:.3f}')\n",
    "\n",
    "    # Dual values for max production constraints\n",
    "    print(\"\\nOptimal duals of max production constraints:\")\n",
    "    for g in generators:\n",
    "        print(f\"Dual U_{g}: {max_production_constraint[g].Pi:.3f}\")\n",
    "        print(f\"Slack U_{g}: {max_production_constraint[g].Slack:.3f}\")\n",
    "\n",
    "    # Dual values for min production constraints\n",
    "    print(\"\\nOptimal duals of min production constraints:\")\n",
    "    for g in generators:\n",
    "        print(f\"Dual u_{g}: {min_production_constraint[g].Pi:.3f}\")\n",
    "        print(f\"Slack u_{g}: {min_production_constraint[g].Slack:.3f}\")\n",
    "\n",
    "else:\n",
    "    raise RuntimeError(f\"Optimization of {model.ModelName} was not successful\")"
   ],
   "metadata": {
    "collapsed": false,
    "ExecuteTime": {
     "end_time": "2024-10-08T17:21:21.570714500Z",
     "start_time": "2024-10-08T17:21:21.523837800Z"
    }
   },
   "id": "74b1cc5880e49a69",
   "execution_count": 8
  }
 ],
 "metadata": {
  "kernelspec": {
   "display_name": "Python 3",
   "language": "python",
   "name": "python3"
  },
  "language_info": {
   "codemirror_mode": {
    "name": "ipython",
    "version": 2
   },
   "file_extension": ".py",
   "mimetype": "text/x-python",
   "name": "python",
   "nbconvert_exporter": "python",
   "pygments_lexer": "ipython2",
   "version": "2.7.6"
  }
 },
 "nbformat": 4,
 "nbformat_minor": 5
}
