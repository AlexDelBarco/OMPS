{
 "cells": [
  {
   "metadata": {},
   "cell_type": "markdown",
   "source": "# EXERCISE 2 - ECONOMIC DISPATCH",
   "id": "1311a8c7e965d3c5"
  },
  {
   "metadata": {},
   "cell_type": "markdown",
   "source": "## Imports",
   "id": "55fae947826cb0e5"
  },
  {
   "metadata": {},
   "cell_type": "code",
   "outputs": [],
   "execution_count": null,
   "source": [
    "import gurobipy as gp\n",
    "from gurobipy import GRB"
   ],
   "id": "9ac28c92e69052c8"
  },
  {
   "metadata": {},
   "cell_type": "markdown",
   "source": "## Statement",
   "id": "964da3e2c5377830"
  },
  {
   "metadata": {},
   "cell_type": "markdown",
   "source": [
    "We consider a power system with 3 generators (G1 , G2 , G3 ) and 1 inflexible load (D1 ).\n",
    "The production costs are in DKK/MWh and the generation capacity and demand in MWh. The system operator wants to dispatch the generators in order to\n",
    "cover this load at the lowest possible cost."
   ],
   "id": "1d1b0fb669e12bb3"
  },
  {
   "metadata": {},
   "cell_type": "markdown",
   "source": "Costs 3 generators:",
   "id": "b29a3b54a59ff95c"
  },
  {
   "metadata": {},
   "cell_type": "code",
   "outputs": [],
   "execution_count": null,
   "source": [
    "G1_c = 70\n",
    "G2_c = 0\n",
    "G3_c = 150"
   ],
   "id": "6f629bfea7bd271b"
  },
  {
   "metadata": {},
   "cell_type": "markdown",
   "source": "Capacity 3 generators:",
   "id": "ca3209bed7cab505"
  },
  {
   "metadata": {},
   "cell_type": "code",
   "outputs": [],
   "execution_count": null,
   "source": [
    "G1_q = 150\n",
    "G2_q = 150\n",
    "G3_q = 150"
   ],
   "id": "7a3da278c9f738f2"
  },
  {
   "metadata": {},
   "cell_type": "markdown",
   "source": "Inflexible demand:",
   "id": "e5f448d205e67bf3"
  },
  {
   "metadata": {},
   "cell_type": "code",
   "outputs": [],
   "execution_count": null,
   "source": "QD = 200",
   "id": "b9d62c87e1c6b5b2"
  },
  {
   "metadata": {},
   "cell_type": "markdown",
   "source": "## ",
   "id": "977e8c4ea568d871"
  },
  {
   "metadata": {},
   "cell_type": "markdown",
   "source": "## Resolution",
   "id": "849b1f3bf3e3db0"
  },
  {
   "metadata": {},
   "cell_type": "markdown",
   "source": "### a)",
   "id": "5268fea6f42b8c47"
  },
  {
   "metadata": {},
   "cell_type": "markdown",
   "source": [
    "Formulate this economic dispatch problem as an optimization problem. Specify the\n",
    "number of variables and constraints of this optimization problem. What do the dual\n",
    "variables associated with each constraint of the economic dispatch represent?"
   ],
   "id": "81dadf775b7b55ba"
  },
  {
   "metadata": {},
   "cell_type": "markdown",
   "source": [
    "Variables:\n",
    "   - $x^{G1}$ : Generation generator 1\n",
    "   - $x^{G3}$ : Generation generator 2\n",
    "   - $x^{G3}$ : Generation generator 3"
   ],
   "id": "231c06ede7c9527b"
  },
  {
   "metadata": {},
   "cell_type": "markdown",
   "source": [
    "Optimisation problem:\n",
    "\n",
    "$$\n",
    "  \\begin{align}\n",
    "      \\textrm{Opt fun:} \\min_{x^{G1}, x^{G2}, x^{G3}} \\quad &70x^{G1} + 0x^{G2} + 150x^{G3} \\\\\n",
    "      \\textrm{subject to} \\quad &x^{G1} + x^{G2} + x^{G3} = 200 \\\\\n",
    "      &x^{G1} \\leq 150 \\\\\n",
    "      &x^{G2} \\leq 150 \\\\\n",
    "      &x^{G3} \\geq 150\n",
    "  \\end{align}\n",
    "$$   "
   ],
   "id": "7bc062ccc4168347"
  },
  {
   "metadata": {},
   "cell_type": "markdown",
   "source": [
    "Dual variables: For each constrain we set a dual variable\n",
    "   - $x^{G1} + x^{G2} + x^{G3} = 200$ : $y_1$\n",
    "   - $x^{G1} \\leq 150$ : $y_2$\n",
    "   - $x^{G2} \\leq 150$ : $y_3$\n",
    "   - $x^{G3} \\leq 150$ : $y_4$"
   ],
   "id": "e22c9f2be8f57899"
  },
  {
   "metadata": {},
   "cell_type": "code",
   "outputs": [],
   "execution_count": null,
   "source": "",
   "id": "34efeace7d363556"
  }
 ],
 "metadata": {
  "kernelspec": {
   "display_name": "Python 3",
   "language": "python",
   "name": "python3"
  },
  "language_info": {
   "codemirror_mode": {
    "name": "ipython",
    "version": 2
   },
   "file_extension": ".py",
   "mimetype": "text/x-python",
   "name": "python",
   "nbconvert_exporter": "python",
   "pygments_lexer": "ipython2",
   "version": "2.7.6"
  }
 },
 "nbformat": 4,
 "nbformat_minor": 5
}
