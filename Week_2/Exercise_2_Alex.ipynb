{
 "cells": [
  {
   "metadata": {},
   "cell_type": "markdown",
   "source": "# EXERCISE 2 - ECONOMIC DISPATCH",
   "id": "1311a8c7e965d3c5"
  },
  {
   "metadata": {},
   "cell_type": "markdown",
   "source": "## Imports",
   "id": "55fae947826cb0e5"
  },
  {
   "metadata": {
    "ExecuteTime": {
     "end_time": "2024-09-16T08:23:32.273595Z",
     "start_time": "2024-09-16T08:23:32.270708Z"
    }
   },
   "cell_type": "code",
   "source": [
    "import gurobipy as gp\n",
    "from gurobipy import GRB"
   ],
   "id": "9ac28c92e69052c8",
   "outputs": [],
   "execution_count": 4
  },
  {
   "metadata": {},
   "cell_type": "markdown",
   "source": "## Statement",
   "id": "964da3e2c5377830"
  },
  {
   "metadata": {},
   "cell_type": "markdown",
   "source": [
    "We consider a power system with 3 generators (G1 , G2 , G3 ) and 1 inflexible load (D1 ).\n",
    "The production costs are in DKK/MWh and the generation capacity and demand in MWh. The system operator wants to dispatch the generators in order to\n",
    "cover this load at the lowest possible cost."
   ],
   "id": "1d1b0fb669e12bb3"
  },
  {
   "metadata": {},
   "cell_type": "markdown",
   "source": "Costs 3 generators:",
   "id": "b29a3b54a59ff95c"
  },
  {
   "metadata": {
    "ExecuteTime": {
     "end_time": "2024-09-16T08:23:32.296408Z",
     "start_time": "2024-09-16T08:23:32.293811Z"
    }
   },
   "cell_type": "code",
   "source": [
    "G1_c = 70\n",
    "G2_c = 0\n",
    "G3_c = 150"
   ],
   "id": "6f629bfea7bd271b",
   "outputs": [],
   "execution_count": 5
  },
  {
   "metadata": {},
   "cell_type": "markdown",
   "source": "Capacity 3 generators:",
   "id": "ca3209bed7cab505"
  },
  {
   "metadata": {
    "ExecuteTime": {
     "end_time": "2024-09-16T08:23:32.304892Z",
     "start_time": "2024-09-16T08:23:32.302323Z"
    }
   },
   "cell_type": "code",
   "source": [
    "G1_q = 150\n",
    "G2_q = 150\n",
    "G3_q = 150"
   ],
   "id": "7a3da278c9f738f2",
   "outputs": [],
   "execution_count": 6
  },
  {
   "metadata": {},
   "cell_type": "markdown",
   "source": "Inflexible demand:",
   "id": "e5f448d205e67bf3"
  },
  {
   "metadata": {
    "ExecuteTime": {
     "end_time": "2024-09-16T08:23:32.308336Z",
     "start_time": "2024-09-16T08:23:32.305698Z"
    }
   },
   "cell_type": "code",
   "source": "QD = 200",
   "id": "b9d62c87e1c6b5b2",
   "outputs": [],
   "execution_count": 7
  },
  {
   "metadata": {},
   "cell_type": "markdown",
   "source": "## ",
   "id": "977e8c4ea568d871"
  },
  {
   "metadata": {},
   "cell_type": "markdown",
   "source": "## Resolution",
   "id": "849b1f3bf3e3db0"
  },
  {
   "metadata": {},
   "cell_type": "markdown",
   "source": "### a)",
   "id": "5268fea6f42b8c47"
  },
  {
   "metadata": {},
   "cell_type": "markdown",
   "source": [
    "Formulate this economic dispatch problem as an optimization problem. Specify the\n",
    "number of variables and constraints of this optimization problem. What do the dual\n",
    "variables associated with each constraint of the economic dispatch represent?"
   ],
   "id": "81dadf775b7b55ba"
  },
  {
   "metadata": {},
   "cell_type": "markdown",
   "source": [
    "Variables:\n",
    "   - $x^{G1}$ : Generation generator 1\n",
    "   - $x^{G3}$ : Generation generator 2\n",
    "   - $x^{G3}$ : Generation generator 3"
   ],
   "id": "231c06ede7c9527b"
  },
  {
   "metadata": {},
   "cell_type": "markdown",
   "source": [
    "Optimisation problem:\n",
    "\n",
    "$$\n",
    "  \\begin{align}\n",
    "      \\textrm{Opt fun:} \\min_{x^{G1}, x^{G2}, x^{G3}} \\quad &70x^{G1} + 0x^{G2} + 150x^{G3} \\\\\n",
    "      \\textrm{subject to} \\quad &x^{G1} + x^{G2} + x^{G3} = 200 \\\\\n",
    "      &x^{G1} \\leq 150 \\\\\n",
    "      &x^{G2} \\leq 150 \\\\\n",
    "      &x^{G3} \\leq 150\n",
    "  \\end{align}\n",
    "$$   "
   ],
   "id": "7bc062ccc4168347"
  },
  {
   "metadata": {},
   "cell_type": "markdown",
   "source": [
    "Dual variables: For each constrain we set a dual variable\n",
    "   - $x^{G1} + x^{G2} + x^{G3} = 200$ : $y_1$, achieve to supply all needed power\n",
    "   - $x^{G1} \\leq 150$ : $y_2$, under max power G1 \n",
    "   - $x^{G2} \\leq 150$ : $y_3$, under max power G2 \n",
    "   - $x^{G3} \\leq 150$ : $y_4$, under max power G3 "
   ],
   "id": "e22c9f2be8f57899"
  },
  {
   "metadata": {},
   "cell_type": "markdown",
   "source": "### b)",
   "id": "89ce33367dee2bbc"
  },
  {
   "metadata": {},
   "cell_type": "markdown",
   "source": [
    "Solve this optimization problem using Python. Provide the values of the optimal primal\n",
    "variables, objective value, and dual variables associated with each constraint. What\n",
    "do you observe w.r.t. to the values (zero or non-zero) taken by the dual variables at\n",
    "optimality and the constraints they are associated with?"
   ],
   "id": "d6863657a6b73150"
  },
  {
   "metadata": {
    "ExecuteTime": {
     "end_time": "2024-09-16T08:23:32.334041Z",
     "start_time": "2024-09-16T08:23:32.309445Z"
    }
   },
   "cell_type": "code",
   "source": [
    "model = gp.Model(\"Ex2\")\n",
    "\n",
    "#Variables\n",
    "x_G1 = model.addVar(name='Production Generator 1')\n",
    "x_G2 = model.addVar(name='Production Generator 2')\n",
    "x_G3 = model.addVar(name='Production Generator 3')\n",
    "\n",
    "#Constrains\n",
    "constraint_1 = model.addLConstr(x_G1 + x_G2 +x_G3, GRB.EQUAL, QD)\n",
    "constraint_2 = model.addLConstr(x_G1, GRB.LESS_EQUAL, G1_q)\n",
    "constraint_3 = model.addLConstr(x_G2, GRB.LESS_EQUAL, G2_q)\n",
    "constraint_4 = model.addLConstr(x_G3, GRB.LESS_EQUAL, G3_q)\n",
    "\n",
    "#Objective Function\n",
    "model.setObjective(G1_c * x_G1 + G2_c * x_G2 + G3_c * x_G3, GRB.MINIMIZE)\n",
    "\n",
    "model.optimize()"
   ],
   "id": "6f27a2d0af4c22a5",
   "outputs": [
    {
     "name": "stdout",
     "output_type": "stream",
     "text": [
      "Set parameter Username\n",
      "Academic license - for non-commercial use only - expires 2025-03-07\n",
      "Gurobi Optimizer version 11.0.3 build v11.0.3rc0 (linux64 - \"Ubuntu 22.04.3 LTS\")\n",
      "\n",
      "CPU model: AMD Ryzen 7 7840U with Radeon 780M Graphics, instruction set [SSE2|AVX|AVX2|AVX512]\n",
      "Thread count: 8 physical cores, 16 logical processors, using up to 16 threads\n",
      "\n",
      "Optimize a model with 4 rows, 3 columns and 6 nonzeros\n",
      "Model fingerprint: 0x075d5718\n",
      "Coefficient statistics:\n",
      "  Matrix range     [1e+00, 1e+00]\n",
      "  Objective range  [7e+01, 2e+02]\n",
      "  Bounds range     [0e+00, 0e+00]\n",
      "  RHS range        [2e+02, 2e+02]\n",
      "Presolve removed 3 rows and 0 columns\n",
      "Presolve time: 0.00s\n",
      "Presolved: 1 rows, 3 columns, 3 nonzeros\n",
      "\n",
      "Iteration    Objective       Primal Inf.    Dual Inf.      Time\n",
      "       0    0.0000000e+00   6.250000e+00   0.000000e+00      0s\n",
      "       1    3.5000000e+03   0.000000e+00   0.000000e+00      0s\n",
      "\n",
      "Solved in 1 iterations and 0.01 seconds (0.00 work units)\n",
      "Optimal objective  3.500000000e+03\n"
     ]
    }
   ],
   "execution_count": 8
  },
  {
   "metadata": {
    "ExecuteTime": {
     "end_time": "2024-09-16T08:25:48.483803Z",
     "start_time": "2024-09-16T08:25:48.480026Z"
    }
   },
   "cell_type": "code",
   "source": [
    "if model.status == GRB.OPTIMAL:\n",
    "    optimal_objective = model.ObjVal\n",
    "    optimal_x_G1 = x_G1.x\n",
    "    optimal_x_G2 = x_G2.x\n",
    "    optimal_x_G3 = x_G3.x\n",
    "    optimal_dual_1 = constraint_1.Pi\n",
    "    optimal_dual_2 = constraint_2.Pi\n",
    "    optimal_dual_3 = constraint_3.Pi\n",
    "    optimal_dual_4 = constraint_4.Pi\n",
    "    print(f\"optimal objective: {optimal_objective}\")\n",
    "    print(f\"optimal value of {x_G1.VarName}: {optimal_x_G1}\")\n",
    "    print(f\"optimal value of {x_G2.VarName}: {optimal_x_G2}\")\n",
    "    print(f\"optimal value of {x_G3.VarName}: {optimal_x_G3}\")\n",
    "else:\n",
    "    print(f\"optimization of {model.ModelName} was not successful\")"
   ],
   "id": "6e973058c1e0ae15",
   "outputs": [
    {
     "name": "stdout",
     "output_type": "stream",
     "text": [
      "optimal objective: 3500.0\n",
      "optimal value of Production Generator 1: 50.0\n",
      "optimal value of Production Generator 2: 150.0\n",
      "optimal value of Production Generator 3: 0.0\n"
     ]
    }
   ],
   "execution_count": 9
  },
  {
   "metadata": {
    "ExecuteTime": {
     "end_time": "2024-09-16T08:23:32.339505Z",
     "start_time": "2024-09-16T08:23:32.337986Z"
    }
   },
   "cell_type": "code",
   "source": "",
   "id": "4d40cacf50354cae",
   "outputs": [],
   "execution_count": 8
  }
 ],
 "metadata": {
  "kernelspec": {
   "display_name": "Python 3",
   "language": "python",
   "name": "python3"
  },
  "language_info": {
   "codemirror_mode": {
    "name": "ipython",
    "version": 2
   },
   "file_extension": ".py",
   "mimetype": "text/x-python",
   "name": "python",
   "nbconvert_exporter": "python",
   "pygments_lexer": "ipython2",
   "version": "2.7.6"
  }
 },
 "nbformat": 4,
 "nbformat_minor": 5
}
