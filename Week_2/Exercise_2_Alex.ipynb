{
 "cells": [
  {
   "metadata": {},
   "cell_type": "markdown",
   "source": [
    "# EXERCISE 2 - ECONOMIC DISPATCH"
   ],
   "id": "1311a8c7e965d3c5"
  },
  {
   "metadata": {},
   "cell_type": "markdown",
   "source": [
    "## Imports"
   ],
   "id": "55fae947826cb0e5"
  },
  {
   "metadata": {
    "ExecuteTime": {
     "end_time": "2024-09-16T15:33:11.787503Z",
     "start_time": "2024-09-16T15:33:11.779259Z"
    }
   },
   "cell_type": "code",
   "source": [
    "import gurobipy as gp\n",
    "from gurobipy import GRB"
   ],
   "id": "9ac28c92e69052c8",
   "outputs": [],
   "execution_count": 1
  },
  {
   "metadata": {},
   "cell_type": "markdown",
   "source": [
    "## Statement"
   ],
   "id": "964da3e2c5377830"
  },
  {
   "metadata": {},
   "cell_type": "markdown",
   "source": [
    "We consider a power system with 3 generators (G1 , G2 , G3 ) and 1 inflexible load (D1 ).\n",
    "The production costs are in DKK/MWh and the generation capacity and demand in MWh. The system operator wants to dispatch the generators in order to\n",
    "cover this load at the lowest possible cost."
   ],
   "id": "1d1b0fb669e12bb3"
  },
  {
   "metadata": {},
   "cell_type": "markdown",
   "source": [
    "Costs 3 generators:"
   ],
   "id": "b29a3b54a59ff95c"
  },
  {
   "metadata": {
    "ExecuteTime": {
     "end_time": "2024-09-16T15:33:11.793419Z",
     "start_time": "2024-09-16T15:33:11.791125Z"
    }
   },
   "cell_type": "code",
   "source": [
    "G1_c = 70\n",
    "G2_c = 0\n",
    "G3_c = 150"
   ],
   "id": "6f629bfea7bd271b",
   "outputs": [],
   "execution_count": 2
  },
  {
   "metadata": {},
   "cell_type": "markdown",
   "source": [
    "Capacity 3 generators:"
   ],
   "id": "ca3209bed7cab505"
  },
  {
   "metadata": {},
   "cell_type": "markdown",
   "source": [],
   "id": "e479974340a5d9cd"
  },
  {
   "metadata": {
    "ExecuteTime": {
     "end_time": "2024-09-16T15:33:11.796231Z",
     "start_time": "2024-09-16T15:33:11.794668Z"
    }
   },
   "cell_type": "code",
   "source": [
    "G1_q = 150\n",
    "G2_q = 150\n",
    "G3_q = 150"
   ],
   "id": "7a3da278c9f738f2",
   "outputs": [],
   "execution_count": 3
  },
  {
   "metadata": {},
   "cell_type": "markdown",
   "source": [
    "Inflexible demand:"
   ],
   "id": "e5f448d205e67bf3"
  },
  {
   "metadata": {
    "ExecuteTime": {
     "end_time": "2024-09-16T15:33:11.806182Z",
     "start_time": "2024-09-16T15:33:11.804096Z"
    }
   },
   "cell_type": "code",
   "source": [
    "QD = 200"
   ],
   "id": "b9d62c87e1c6b5b2",
   "outputs": [],
   "execution_count": 4
  },
  {
   "metadata": {},
   "cell_type": "markdown",
   "source": [
    "## "
   ],
   "id": "977e8c4ea568d871"
  },
  {
   "metadata": {},
   "cell_type": "markdown",
   "source": [
    "## Resolution"
   ],
   "id": "849b1f3bf3e3db0"
  },
  {
   "metadata": {},
   "cell_type": "markdown",
   "source": [
    "### a)"
   ],
   "id": "5268fea6f42b8c47"
  },
  {
   "metadata": {},
   "cell_type": "markdown",
   "source": [
    "Formulate this economic dispatch problem as an optimization problem. Specify the\n",
    "number of variables and constraints of this optimization problem. What do the dual\n",
    "variables associated with each constraint of the economic dispatch represent?"
   ],
   "id": "81dadf775b7b55ba"
  },
  {
   "metadata": {},
   "cell_type": "markdown",
   "source": [
    "Variables:\n",
    "   - $x^{G1}$ : Generation generator 1\n",
    "   - $x^{G3}$ : Generation generator 2\n",
    "   - $x^{G3}$ : Generation generator 3"
   ],
   "id": "231c06ede7c9527b"
  },
  {
   "metadata": {},
   "cell_type": "markdown",
   "source": [
    "Optimisation problem:\n",
    "\n",
    "$$\n",
    "  \\begin{align}\n",
    "      \\textrm{Opt fun:} \\min_{x^{G1}, x^{G2}, x^{G3}} \\quad &70x^{G1} + 0x^{G2} + 150x^{G3} \\\\\n",
    "      \\textrm{subject to} \\quad &x^{G1} + x^{G2} + x^{G3} = 200 \\\\\n",
    "      &x^{G1} \\leq 150 \\\\\n",
    "      &x^{G2} \\leq 150 \\\\\n",
    "      &x^{G3} \\leq 150 \\\\\n",
    "      & all x^{Gi} \\geq 0\n",
    "  \\end{align}\n",
    "$$   "
   ],
   "id": "7bc062ccc4168347"
  },
  {
   "metadata": {},
   "cell_type": "markdown",
   "source": [
    "Dual variables: For each constrain we set a dual variable\n",
    "   - $x^{G1} + x^{G2} + x^{G3} = 200$ : $y_1$, achieve to supply all needed power\n",
    "   - $x^{G1} \\leq 150$ : $y_2$, under max power G1 \n",
    "   - $x^{G2} \\leq 150$ : $y_3$, under max power G2 \n",
    "   - $x^{G3} \\leq 150$ : $y_4$, under max power G3 "
   ],
   "id": "e22c9f2be8f57899"
  },
  {
   "metadata": {},
   "cell_type": "markdown",
   "source": [
    "### b)"
   ],
   "id": "89ce33367dee2bbc"
  },
  {
   "metadata": {},
   "cell_type": "markdown",
   "source": [
    "Solve this optimization problem using Python. Provide the values of the optimal primal\n",
    "variables, objective value, and dual variables associated with each constraint. What\n",
    "do you observe w.r.t. to the values (zero or non-zero) taken by the dual variables at\n",
    "optimality and the constraints they are associated with?"
   ],
   "id": "d6863657a6b73150"
  },
  {
   "metadata": {
    "ExecuteTime": {
     "end_time": "2024-09-16T15:33:11.816302Z",
     "start_time": "2024-09-16T15:33:11.806989Z"
    }
   },
   "cell_type": "code",
   "source": [
    "model = gp.Model(\"Ex2\")\n",
    "\n",
    "#Variables\n",
    "x_G1 = model.addVar(name='Production Generator 1')\n",
    "x_G2 = model.addVar(name='Production Generator 2')\n",
    "x_G3 = model.addVar(name='Production Generator 3')\n",
    "\n",
    "#Constrains\n",
    "constraint_1 = model.addLConstr(x_G1 + x_G2 +x_G3, GRB.EQUAL, QD)\n",
    "constraint_2 = model.addLConstr(x_G1, GRB.LESS_EQUAL, G1_q)\n",
    "constraint_3 = model.addLConstr(x_G2, GRB.LESS_EQUAL, G2_q)\n",
    "constraint_4 = model.addLConstr(x_G3, GRB.LESS_EQUAL, G3_q)\n",
    "\n",
    "#Objective Function\n",
    "model.setObjective(G1_c * x_G1 + G2_c * x_G2 + G3_c * x_G3, GRB.MINIMIZE)\n",
    "\n",
    "model.optimize()"
   ],
   "id": "6f27a2d0af4c22a5",
   "outputs": [
    {
     "name": "stdout",
     "output_type": "stream",
     "text": [
      "Set parameter Username\n",
      "Academic license - for non-commercial use only - expires 2025-03-07\n",
      "Gurobi Optimizer version 11.0.3 build v11.0.3rc0 (linux64 - \"Ubuntu 22.04.3 LTS\")\n",
      "\n",
      "CPU model: AMD Ryzen 7 7840U with Radeon 780M Graphics, instruction set [SSE2|AVX|AVX2|AVX512]\n",
      "Thread count: 8 physical cores, 16 logical processors, using up to 16 threads\n",
      "\n",
      "Optimize a model with 4 rows, 3 columns and 6 nonzeros\n",
      "Model fingerprint: 0x075d5718\n",
      "Coefficient statistics:\n",
      "  Matrix range     [1e+00, 1e+00]\n",
      "  Objective range  [7e+01, 2e+02]\n",
      "  Bounds range     [0e+00, 0e+00]\n",
      "  RHS range        [2e+02, 2e+02]\n",
      "Presolve removed 3 rows and 0 columns\n",
      "Presolve time: 0.00s\n",
      "Presolved: 1 rows, 3 columns, 3 nonzeros\n",
      "\n",
      "Iteration    Objective       Primal Inf.    Dual Inf.      Time\n",
      "       0    0.0000000e+00   6.250000e+00   0.000000e+00      0s\n",
      "       1    3.5000000e+03   0.000000e+00   0.000000e+00      0s\n",
      "\n",
      "Solved in 1 iterations and 0.00 seconds (0.00 work units)\n",
      "Optimal objective  3.500000000e+03\n"
     ]
    }
   ],
   "execution_count": 5
  },
  {
   "metadata": {
    "ExecuteTime": {
     "end_time": "2024-09-16T15:33:11.819531Z",
     "start_time": "2024-09-16T15:33:11.817030Z"
    }
   },
   "cell_type": "code",
   "source": [
    "if model.status == GRB.OPTIMAL:\n",
    "    optimal_objective = model.ObjVal\n",
    "    optimal_x_G1 = x_G1.x\n",
    "    optimal_x_G2 = x_G2.x\n",
    "    optimal_x_G3 = x_G3.x\n",
    "    optimal_dual_1 = constraint_1.Pi\n",
    "    optimal_dual_2 = constraint_2.Pi\n",
    "    optimal_dual_3 = constraint_3.Pi\n",
    "    optimal_dual_4 = constraint_4.Pi\n",
    "    print(f\"optimal objective: {optimal_objective}\")\n",
    "    print(f\"optimal value of {x_G1.VarName}: {optimal_x_G1}\")\n",
    "    print(f\"optimal value of {x_G2.VarName}: {optimal_x_G2}\")\n",
    "    print(f\"optimal value of {x_G3.VarName}: {optimal_x_G3}\")\n",
    "else:\n",
    "    print(f\"optimization of {model.ModelName} was not successful\")"
   ],
   "id": "6e973058c1e0ae15",
   "outputs": [
    {
     "name": "stdout",
     "output_type": "stream",
     "text": [
      "optimal objective: 3500.0\n",
      "optimal value of Production Generator 1: 50.0\n",
      "optimal value of Production Generator 2: 150.0\n",
      "optimal value of Production Generator 3: 0.0\n"
     ]
    }
   ],
   "execution_count": 6
  },
  {
   "metadata": {},
   "cell_type": "markdown",
   "source": [
    "### c)"
   ],
   "id": "dcdb134dc75dba35"
  },
  {
   "metadata": {},
   "cell_type": "markdown",
   "source": [
    "Standard form:"
   ],
   "id": "c30b5c0a2c3372cd"
  },
  {
   "metadata": {},
   "cell_type": "markdown",
   "source": [
    "$$\n",
    "  \\begin{align}\n",
    "      \\textrm{Opt fun:} \\min_{x^{G1}, x^{G2}, x^{G3}} \\quad &70x^{G1} + 0x^{G2} + 150x^{G3} \\\\\n",
    "      \\textrm{subject to} \\quad \\\\\n",
    "      & x^{G1} + x^{G2} + x^{G3} \\geq 200 \\\\\n",
    "      & -(x^{G1} + x^{G2} + x^{G3}) \\geq -200 \\\\\n",
    "      & -x^{G1} \\geq -150 \\\\\n",
    "      & -x^{G2} \\geq -150 \\\\\n",
    "      & -x^{G3} \\geq -150\n",
    "  \\end{align}\n",
    "$$   "
   ],
   "id": "8bb815eeb2d7c37c"
  },
  {
   "metadata": {},
   "cell_type": "markdown",
   "source": [
    "Dual problem:"
   ],
   "id": "4d42a743bcd284d5"
  },
  {
   "metadata": {},
   "cell_type": "markdown",
   "source": [
    "Dual variables"
   ],
   "id": "76c732e66f5e91b3"
  },
  {
   "metadata": {},
   "cell_type": "markdown",
   "source": [
    "$$\n",
    "  \\begin{align}\n",
    "      & x^{G1} + x^{G2} + x^{G3} \\geq 200 : y_{1} \\\\\n",
    "      & -(x^{G1} + x^{G2} + x^{G3}) \\geq -200 : y_{2} \\\\\n",
    "      & -x^{G1} \\geq -150 : y_{3} \\\\\n",
    "      & -x^{G2} \\geq -150 : y_{4} \\\\\n",
    "      & -x^{G3} \\geq -150 : y_{5}\n",
    "  \\end{align}\n",
    "$$ "
   ],
   "id": "b10b075faf331f6b"
  },
  {
   "metadata": {},
   "cell_type": "markdown",
   "source": [
    "Vecctor primal variables"
   ],
   "id": "195fc0d2bbde0cae"
  },
  {
   "metadata": {},
   "cell_type": "markdown",
   "source": [
    "$$\n",
    "  \\begin{align}\n",
    "      & x = [x^{G1}, x^{G2}, x^{G3}]\n",
    "  \\end{align}\n",
    "$$ "
   ],
   "id": "f007ab1f80e636f4"
  },
  {
   "metadata": {},
   "cell_type": "markdown",
   "source": [
    "Vector primal cost"
   ],
   "id": "a25b5d6d4ab765ae"
  },
  {
   "metadata": {},
   "cell_type": "markdown",
   "source": [
    "$$\n",
    "  \\begin{align}\n",
    "      & x = [70, 0, 150]\n",
    "  \\end{align}\n",
    "$$"
   ],
   "id": "2c8451b7619f07f0"
  },
  {
   "metadata": {},
   "cell_type": "markdown",
   "source": [
    "vector left-hand-side constrains"
   ],
   "id": "c18f4226b7c0d8fe"
  },
  {
   "metadata": {},
   "cell_type": "markdown",
   "source": [
    "$$\n",
    "  \\begin{align}\n",
    "      & b = [200, -200, -150, -150, -150]\n",
    "  \\end{align}\n",
    "$$"
   ],
   "id": "8de76a0e2fcf9496"
  },
  {
   "metadata": {},
   "cell_type": "markdown",
   "source": [
    "A marix"
   ],
   "id": "a3d59c7c152f9dcf"
  },
  {
   "metadata": {},
   "cell_type": "markdown",
   "source": [
    "$$\n",
    "A = \\begin{bmatrix}\n",
    "1 & 1 & 1 \\\\\n",
    "-1 & -1 & -1 \\\\\n",
    "-1 & 0 & 0 \\\\\n",
    "0 & -1 & 0 \\\\\n",
    "0 & 0 & -1 \n",
    "\\end{bmatrix}\n",
    "$$\n"
   ],
   "id": "d4fd880f5dd428b4"
  },
  {
   "metadata": {},
   "cell_type": "markdown",
   "source": [
    "Objective function"
   ],
   "id": "55c680e38128c9f0"
  },
  {
   "metadata": {},
   "cell_type": "markdown",
   "source": [
    "$$\n",
    "  \\begin{align}\n",
    "      \\textrm{Opt fun:} \\max_{x^{G1}, x^{G2}, x^{G3}} \\quad &200y_{1} -200y_{2} -150y_{3} -150y_{4} -150y_{5} \\\\\n",
    "  \\end{align}\n",
    "$$  "
   ],
   "id": "38b3e83435e09f13"
  },
  {
   "metadata": {},
   "cell_type": "markdown",
   "source": [
    "transposed A matrix"
   ],
   "id": "7802275fe0d78052"
  },
  {
   "metadata": {},
   "cell_type": "markdown",
   "source": [
    "$$\n",
    "A^{T} = \\begin{bmatrix}\n",
    "1 & -1 & -1 & 0 & 0 \\\\\n",
    "1 & -1 & 0 & -1 & 0 \\\\\n",
    "1 & -1 & 0 & 0 & -1 \n",
    "\\end{bmatrix}\n",
    "$$"
   ],
   "id": "1f4527cddd86bf04"
  },
  {
   "metadata": {},
   "cell_type": "markdown",
   "source": [
    "Dual constrains"
   ],
   "id": "d4ee7aa6bbbe6d33"
  },
  {
   "metadata": {},
   "cell_type": "markdown",
   "source": [
    "$$\n",
    "  \\begin{align}\n",
    "      & y_{1} - y_{2} - y_{3} \\leq 70 \\\\\n",
    "      & y_{1} - y_{2} - y_{4} \\leq 0 \\\\\n",
    "      & y_{1} - y_{2} - y_{5} \\leq 150 \\\\\n",
    "      & y_{1} \\geq 0 \\\\\n",
    "      & y_{2} \\geq 0 \\\\\n",
    "      & y_{3} \\geq 0 \\\\\n",
    "      & y_{4} \\geq 0 \\\\\n",
    "      & y_{5} \\geq 0 \n",
    "  \\end{align}\n",
    "$$ "
   ],
   "id": "ed441607a6166c70"
  },
  {
   "metadata": {},
   "cell_type": "markdown",
   "source": [
    "model"
   ],
   "id": "bcd535c4c9fe11a0"
  },
  {
   "metadata": {
    "ExecuteTime": {
     "end_time": "2024-09-16T15:33:11.827654Z",
     "start_time": "2024-09-16T15:33:11.820217Z"
    }
   },
   "cell_type": "code",
   "source": [
    "model = gp.Model(\"Ex2_dual\")\n",
    "\n",
    "#Variables\n",
    "y_1 = model.addVar(name='y 1')\n",
    "y_2 = model.addVar(name='y 2')\n",
    "y_3 = model.addVar(name='y 3')\n",
    "y_4 = model.addVar(name='y 4')\n",
    "y_5 = model.addVar(name='y 5')\n",
    "\n",
    "#Constrains\n",
    "constraint_1 = model.addLConstr(y_1 - y_2 -y_3, GRB.LESS_EQUAL, G1_c)\n",
    "constraint_2 = model.addLConstr(y_1 - y_2 -y_4, GRB.LESS_EQUAL, G2_c)\n",
    "constraint_3 = model.addLConstr(y_1 - y_2 -y_5, GRB.LESS_EQUAL, G3_c)\n",
    "constraint_4 = model.addLConstr(y_1, GRB.GREATER_EQUAL, 0)\n",
    "constraint_5 = model.addLConstr(y_2, GRB.GREATER_EQUAL, 0)\n",
    "constraint_6 = model.addLConstr(y_3, GRB.GREATER_EQUAL, 0)\n",
    "constraint_7 = model.addLConstr(y_4, GRB.GREATER_EQUAL, 0)\n",
    "constraint_8 = model.addLConstr(y_5, GRB.GREATER_EQUAL, 0)\n",
    "\n",
    "#Objective Function\n",
    "model.setObjective(QD*y_1 - QD*y_2 - G1_q*y_3 - G2_q*y_4 - G3_q*y_5, GRB.MAXIMIZE)\n",
    "\n",
    "model.optimize()"
   ],
   "id": "fd7e3d90b0167b0e",
   "outputs": [
    {
     "name": "stdout",
     "output_type": "stream",
     "text": [
      "Gurobi Optimizer version 11.0.3 build v11.0.3rc0 (linux64 - \"Ubuntu 22.04.3 LTS\")\n",
      "\n",
      "CPU model: AMD Ryzen 7 7840U with Radeon 780M Graphics, instruction set [SSE2|AVX|AVX2|AVX512]\n",
      "Thread count: 8 physical cores, 16 logical processors, using up to 16 threads\n",
      "\n",
      "Optimize a model with 8 rows, 5 columns and 14 nonzeros\n",
      "Model fingerprint: 0xafb6c14b\n",
      "Coefficient statistics:\n",
      "  Matrix range     [1e+00, 1e+00]\n",
      "  Objective range  [2e+02, 2e+02]\n",
      "  Bounds range     [0e+00, 0e+00]\n",
      "  RHS range        [7e+01, 2e+02]\n",
      "Presolve removed 6 rows and 1 columns\n",
      "Presolve time: 0.00s\n",
      "Presolved: 2 rows, 4 columns, 6 nonzeros\n",
      "\n",
      "Iteration    Objective       Primal Inf.    Dual Inf.      Time\n",
      "       0    5.0000000e+31   2.000000e+30   5.000000e+01      0s\n",
      "       2    3.5000000e+03   0.000000e+00   0.000000e+00      0s\n",
      "\n",
      "Solved in 2 iterations and 0.00 seconds (0.00 work units)\n",
      "Optimal objective  3.500000000e+03\n"
     ]
    }
   ],
   "execution_count": 7
  },
  {
   "metadata": {
    "ExecuteTime": {
     "end_time": "2024-09-16T15:36:11.362658Z",
     "start_time": "2024-09-16T15:36:11.358648Z"
    }
   },
   "cell_type": "code",
   "source": [
    "if model.status == GRB.OPTIMAL:\n",
    "    optimal_objective = model.ObjVal\n",
    "    optimal_y_1 = y_1.x\n",
    "    optimal_y_2 = y_2.x\n",
    "    optimal_y_3 = y_3.x\n",
    "    optimal_y_4 = y_4.x\n",
    "    optimal_y_5 = y_5.x\n",
    "    optimal_dual_1 = constraint_1.Pi\n",
    "    optimal_dual_2 = constraint_2.Pi\n",
    "    optimal_dual_3 = constraint_3.Pi\n",
    "    optimal_dual_4 = constraint_4.Pi\n",
    "    optimal_dual_5 = constraint_5.Pi\n",
    "    optimal_dual_6 = constraint_6.Pi\n",
    "    optimal_dual_7 = constraint_7.Pi\n",
    "    optimal_dual_8 = constraint_8.Pi\n",
    "    print(f\"optimal objective: {optimal_objective}\")\n",
    "    print(f\"optimal value of {y_1.VarName}: {optimal_y_1}\")\n",
    "    print(f\"optimal value of {y_2.VarName}: {optimal_y_2}\")\n",
    "    print(f\"optimal value of {y_3.VarName}: {optimal_y_3}\")\n",
    "    print(f\"optimal value of {y_4.VarName}: {optimal_y_4}\")\n",
    "    print(f\"optimal value of {y_5.VarName}: {optimal_y_5}\")\n",
    "else:\n",
    "    print(f\"optimization of {model.ModelName} was not successful\")"
   ],
   "id": "dae4ccc0d6c9b9fc",
   "outputs": [
    {
     "name": "stdout",
     "output_type": "stream",
     "text": [
      "optimal objective: 3500.0\n",
      "optimal value of y 1: 70.0\n",
      "optimal value of y 2: 0.0\n",
      "optimal value of y 3: 0.0\n",
      "optimal value of y 4: 70.0\n",
      "optimal value of y 5: 0.0\n"
     ]
    }
   ],
   "execution_count": 8
  },
  {
   "metadata": {},
   "cell_type": "code",
   "outputs": [],
   "execution_count": null,
   "source": [],
   "id": "2fee7a04ef1ffd0"
  }
 ],
 "metadata": {
  "kernelspec": {
   "display_name": "Python 3",
   "language": "python",
   "name": "python3"
  },
  "language_info": {
   "codemirror_mode": {
    "name": "ipython",
    "version": 2
   },
   "file_extension": ".py",
   "mimetype": "text/x-python",
   "name": "python",
   "nbconvert_exporter": "python",
   "pygments_lexer": "ipython2",
   "version": "2.7.6"
  }
 },
 "nbformat": 4,
 "nbformat_minor": 5
}
