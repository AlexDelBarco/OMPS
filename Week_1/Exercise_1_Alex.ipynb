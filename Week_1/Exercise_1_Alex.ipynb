{
 "cells": [
  {
   "metadata": {},
   "cell_type": "markdown",
   "source": [
    "# EXERCISE 1 - BESTAS' PROBLEM"
   ],
   "id": "4b82dca6b4e5dc6d"
  },
  {
   "metadata": {},
   "cell_type": "markdown",
   "source": [
    "## Imports"
   ],
   "id": "946b6513d09d632d"
  },
  {
   "metadata": {
    "ExecuteTime": {
     "end_time": "2024-09-14T17:24:34.217452Z",
     "start_time": "2024-09-14T17:24:34.207965Z"
    }
   },
   "cell_type": "code",
   "source": [
    "import gurobipy as gp\n",
    "from gurobipy import GRB"
   ],
   "id": "a7a9fbe7015d9abb",
   "outputs": [],
   "execution_count": 3
  },
  {
   "metadata": {},
   "cell_type": "markdown",
   "source": [
    "## Statement"
   ],
   "id": "f47d48f3f62c929"
  },
  {
   "metadata": {},
   "cell_type": "markdown",
   "source": [
    "Bestas Energy is an energy utility company that operates a hybrid power plant consisting\n",
    "of two main components: a wind turbine and an electrolyzer. The wind turbine generates\n",
    "W = 200kWh of electricity."
   ],
   "id": "593ace6968d8003d"
  },
  {
   "metadata": {
    "ExecuteTime": {
     "end_time": "2024-09-14T17:24:34.234505Z",
     "start_time": "2024-09-14T17:24:34.231556Z"
    }
   },
   "cell_type": "code",
   "source": [
    "W = 200 # kWh"
   ],
   "id": "563d1bdbcafc70eb",
   "outputs": [],
   "execution_count": 4
  },
  {
   "metadata": {},
   "cell_type": "markdown",
   "source": [
    "The company has two options for utilizing this energy:"
   ],
   "id": "5f2be685cfa1778e"
  },
  {
   "metadata": {},
   "cell_type": "markdown",
   "source": [
    "1. Sell the electricity directly to the grid at a rate of λ\n",
    "E = 10DKK/kWh. However, the\n",
    "amount of electricity that can be sold directly to the grid is restricted by the grid\n",
    "connection capacity, which is limited to E = 100kWh."
   ],
   "id": "ddec99e946fb5d1e"
  },
  {
   "metadata": {
    "ExecuteTime": {
     "end_time": "2024-09-14T17:24:34.238487Z",
     "start_time": "2024-09-14T17:24:34.235959Z"
    }
   },
   "cell_type": "code",
   "source": [
    "pr_E = 10 # Price electricity to grid [dkk/kWh]\n",
    "E = 100 # Max grid connection capacity [kWh]"
   ],
   "id": "3df9ad91f2a3413c",
   "outputs": [],
   "execution_count": 5
  },
  {
   "metadata": {},
   "cell_type": "markdown",
   "source": [
    "2. Convert the electricity into hydrogen and sell it at a rate of λ\n",
    "H = 15DKK/kWh.\n",
    "The electrolyzer uses electricity to produce hydrogen with a conversion efficiency of\n",
    "ρ\n",
    "H = 0.8 and has a maximum hydrogen production capacity of H = 100kWh."
   ],
   "id": "77a481635538afab"
  },
  {
   "metadata": {
    "ExecuteTime": {
     "end_time": "2024-09-14T17:24:34.242381Z",
     "start_time": "2024-09-14T17:24:34.239470Z"
    }
   },
   "cell_type": "code",
   "source": [
    "pr_H = 15 # Price hydrogen [dkk/kWh]\n",
    "ef_h = 0.8 # Electrolyzer efficiency\n",
    "H = 100 # Max hydrogen production capacity [kWh]"
   ],
   "id": "a683696324b2ab86",
   "outputs": [],
   "execution_count": 6
  },
  {
   "metadata": {},
   "cell_type": "markdown",
   "source": [
    "Bestas wants to optimize its production of electricity and hydrogen to maximize its profits."
   ],
   "id": "c075d89b3ec88038"
  },
  {
   "metadata": {},
   "cell_type": "markdown",
   "source": [
    "## Resolution"
   ],
   "id": "a6f93efee9fb56b1"
  },
  {
   "metadata": {},
   "cell_type": "markdown",
   "source": [
    "### a)"
   ],
   "id": "8296a401ec76ed01"
  },
  {
   "metadata": {},
   "cell_type": "markdown",
   "source": [
    "Formulate this decision-making problem as an optimization problem, and detail its\n",
    "decision variables, objective, and constraints."
   ],
   "id": "fae0434f2cfa38ae"
  },
  {
   "metadata": {},
   "cell_type": "markdown",
   "source": [
    "Optimisation problem:\n",
    "\n",
    "$$\n",
    "  \\begin{align}\n",
    "      \\textrm{Opt fun:} \\max_{x^E, x^H} \\quad &10x^E + 15x^H \\\\\n",
    "      \\textrm{subject to} \\quad &x^E + \\frac{x^H}{0.8} \\leq 200 \\\\\n",
    "      &x^E \\leq 100 \\\\\n",
    "      &x^H \\leq 100 \\\\\n",
    "      &x^E \\geq 0 \\\\\n",
    "      &x^H \\geq 0\n",
    "  \\end{align}\n",
    "$$    "
   ],
   "id": "6f39f78f343bf474"
  },
  {
   "metadata": {
    "ExecuteTime": {
     "end_time": "2024-09-14T17:28:34.286710Z",
     "start_time": "2024-09-14T17:28:34.279217Z"
    }
   },
   "cell_type": "code",
   "source": [
    "model = gp.Model(\"Ex1\")\n",
    "\n",
    "#Variables\n",
    "x_E = model.addVar(name='Electricity')\n",
    "x_H = model.addVar(name='Hydrogen')\n",
    "\n",
    "#Constrains\n",
    "constraint_1 = model.addLConstr(x_E + (x_H/ef_h), GRB.LESS_EQUAL, W)\n",
    "constraint_2 = model.addLConstr(x_E, GRB.LESS_EQUAL, E)\n",
    "constraint_3 = model.addLConstr(x_H, GRB.LESS_EQUAL, H)\n",
    "constraint_4 = model.addLConstr(x_E, GRB.GREATER_EQUAL, 0)\n",
    "constraint_5 = model.addLConstr(x_H, GRB.GREATER_EQUAL, 0)\n",
    "\n",
    "#Objective Function\n",
    "model.setObjective(pr_E*x_E + pr_H*x_H, GRB.MAXIMIZE)\n",
    "\n",
    "model.optimize()"
   ],
   "id": "3f917391f16f73db",
   "outputs": [
    {
     "name": "stdout",
     "output_type": "stream",
     "text": [
      "Gurobi Optimizer version 11.0.3 build v11.0.3rc0 (linux64 - \"Ubuntu 22.04.3 LTS\")\n",
      "\n",
      "CPU model: AMD Ryzen 7 7840U with Radeon 780M Graphics, instruction set [SSE2|AVX|AVX2|AVX512]\n",
      "Thread count: 8 physical cores, 16 logical processors, using up to 16 threads\n",
      "\n",
      "Optimize a model with 5 rows, 2 columns and 6 nonzeros\n",
      "Model fingerprint: 0x55392056\n",
      "Coefficient statistics:\n",
      "  Matrix range     [1e+00, 1e+00]\n",
      "  Objective range  [1e+01, 2e+01]\n",
      "  Bounds range     [0e+00, 0e+00]\n",
      "  RHS range        [1e+02, 2e+02]\n",
      "Presolve removed 4 rows and 0 columns\n",
      "Presolve time: 0.00s\n",
      "Presolved: 1 rows, 2 columns, 2 nonzeros\n",
      "\n",
      "Iteration    Objective       Primal Inf.    Dual Inf.      Time\n",
      "       0    2.4000000e+03   1.500000e+01   0.000000e+00      0s\n",
      "       1    2.2500000e+03   0.000000e+00   0.000000e+00      0s\n",
      "\n",
      "Solved in 1 iterations and 0.00 seconds (0.00 work units)\n",
      "Optimal objective  2.250000000e+03\n"
     ]
    }
   ],
   "execution_count": 10
  },
  {
   "metadata": {
    "ExecuteTime": {
     "end_time": "2024-09-14T17:29:17.332135Z",
     "start_time": "2024-09-14T17:29:17.328858Z"
    }
   },
   "cell_type": "code",
   "source": [
    "if model.status == GRB.OPTIMAL:\n",
    "    optimal_objective = model.ObjVal\n",
    "    optimal_x_E = x_E.x\n",
    "    optimal_x_H = x_H.x\n",
    "    optimal_dual_1 = constraint_1.Pi\n",
    "    optimal_dual_2 = constraint_2.Pi\n",
    "    print(f\"optimal objective: {optimal_objective}\")\n",
    "    print(f\"optimal value of {x_E.VarName}: {optimal_x_E}\")\n",
    "    print(f\"optimal value of {x_H.VarName}: {optimal_x_H}\")\n",
    "else:\n",
    "    print(f\"optimization of {model.ModelName} was not successful\")"
   ],
   "id": "a3f51389583adc57",
   "outputs": [
    {
     "name": "stdout",
     "output_type": "stream",
     "text": [
      "optimal objective: 2250.0\n",
      "optimal value of Electricity: 75.0\n",
      "optimal value of Hydrogen: 100.0\n"
     ]
    }
   ],
   "execution_count": 12
  },
  {
   "metadata": {},
   "cell_type": "markdown",
   "source": [
    "### c)"
   ],
   "id": "54cc039650ca4581"
  },
  {
   "metadata": {},
   "cell_type": "markdown",
   "source": [
    "Formulate the dual of the economic dispatch problem. What do the dual variables\n",
    "associated with each constraint of the dual problem represent?"
   ],
   "id": "ef49abec064c3e4c"
  },
  {
   "metadata": {},
   "cell_type": "code",
   "outputs": [],
   "execution_count": null,
   "source": [],
   "id": "29a9e4bb29313ced"
  }
 ],
 "metadata": {
  "kernelspec": {
   "display_name": "Python 3",
   "language": "python",
   "name": "python3"
  },
  "language_info": {
   "codemirror_mode": {
    "name": "ipython",
    "version": 2
   },
   "file_extension": ".py",
   "mimetype": "text/x-python",
   "name": "python",
   "nbconvert_exporter": "python",
   "pygments_lexer": "ipython2",
   "version": "2.7.6"
  }
 },
 "nbformat": 4,
 "nbformat_minor": 5
}
