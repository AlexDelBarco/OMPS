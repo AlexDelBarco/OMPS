{
 "cells": [
  {
   "cell_type": "markdown",
   "metadata": {},
   "source": [
    "## Introduction to gurobipy\n",
    "The purpose of this exercise is to introduce you to linear programming problems using the python API gurobipy. <br>\n",
    "- Sections 1-3 are for you to familiarize yourselves with gurobi basics. \n",
    "- Section 4 introduces a more general way to formulate and solve optimization problems. \n",
    "- Section 5 gives a (very) basic introduction to object-oriented programming \n",
    "- Section 6 exemplifies how object-oriented programming can be used to structure optimization problems. <br>\n",
    "<b>We recommend using this structure for the individual assignments and the group project.<b>"
   ]
  },
  {
   "cell_type": "markdown",
   "metadata": {},
   "source": [
    "## 1 What is gurobipy?"
   ]
  },
  {
   "cell_type": "markdown",
   "metadata": {},
   "source": [
    "- gurobipy is a python API used to formulate and solve mathematical optimization problems in python (similar to pyomo or JuMP in Julia).\n",
    "- It is developed by the same company which develops the gurobi solver. \n",
    "- You can install gurobipy by running:"
   ]
  },
  {
   "cell_type": "code",
   "metadata": {
    "ExecuteTime": {
     "end_time": "2024-09-14T16:36:22.785640Z",
     "start_time": "2024-09-14T16:36:20.942484Z"
    }
   },
   "source": [
    "pip install gurobipy"
   ],
   "outputs": [
    {
     "name": "stdout",
     "output_type": "stream",
     "text": [
      "Requirement already satisfied: gurobipy in /home/adb/anaconda3/lib/python3.11/site-packages (11.0.3)\r\n",
      "Note: you may need to restart the kernel to use updated packages.\n"
     ]
    }
   ],
   "execution_count": 1
  },
  {
   "cell_type": "markdown",
   "metadata": {},
   "source": [
    "- We import with prefix ```gp.```\n",
    "- The specific module ```GRB``` is commonly imported separately, as it is used frequently. "
   ]
  },
  {
   "cell_type": "code",
   "metadata": {
    "ExecuteTime": {
     "end_time": "2024-09-14T16:36:36.101954Z",
     "start_time": "2024-09-14T16:36:36.091867Z"
    }
   },
   "source": [
    "import gurobipy as gp\n",
    "from gurobipy import GRB"
   ],
   "outputs": [],
   "execution_count": 2
  },
  {
   "cell_type": "markdown",
   "metadata": {},
   "source": [
    "## 2 Example: Simple problem"
   ]
  },
  {
   "cell_type": "markdown",
   "metadata": {},
   "source": [
    "Let's use the following problem as an example:\n",
    "\n",
    "$$\n",
    "  \\begin{align}\n",
    "      \\textrm{minimize} \\quad &30x_1 + 20x_2 \\\\\n",
    "      \\textrm{subject to} \\quad &0.6x_1 + 0.2x_2 \\geq 60 \\\\\n",
    "      &0.4x_1 + 0.8x_2 \\geq 100 \\\\\n",
    "      &x_1 \\geq 0, x_2 \\geq 0 \\\\\n",
    "  \\end{align}\n",
    "$$"
   ]
  },
  {
   "cell_type": "markdown",
   "metadata": {},
   "source": [
    "- We initialize a model object in which we'll store the problem."
   ]
  },
  {
   "cell_type": "code",
   "metadata": {
    "ExecuteTime": {
     "end_time": "2024-09-14T16:36:53.651961Z",
     "start_time": "2024-09-14T16:36:53.641463Z"
    }
   },
   "source": [
    "model = gp.Model(\"My_LP_problem\")"
   ],
   "outputs": [
    {
     "name": "stdout",
     "output_type": "stream",
     "text": [
      "Set parameter Username\n",
      "Academic license - for non-commercial use only - expires 2025-03-07\n"
     ]
    }
   ],
   "execution_count": 3
  },
  {
   "cell_type": "markdown",
   "metadata": {},
   "source": [
    "- Now, we can add variables to the model with the method ```model.addVar(lb=0.0, ub=float('inf'), vtype=GRB.CONTINUOUS, name=\"\")```.\n",
    "- We can specify lower and upper bounds as well as domain using the arguments ```lb```, ```ub```, and ```vtype```, respectively.\n",
    "- <b>Note that the default lower bound is 0!<b>"
   ]
  },
  {
   "cell_type": "code",
   "metadata": {
    "ExecuteTime": {
     "end_time": "2024-09-14T16:37:47.086115Z",
     "start_time": "2024-09-14T16:37:47.082880Z"
    }
   },
   "source": [
    "# Note that these two variables have the same bounds and domain\n",
    "x_1 = model.addVar(lb=0, vtype=GRB.CONTINUOUS, name=\"x_1\")\n",
    "x_2 = model.addVar(name=\"x_2\")"
   ],
   "outputs": [],
   "execution_count": 4
  },
  {
   "cell_type": "markdown",
   "metadata": {},
   "source": [
    "- Generally, we add constraints with the ```model.addConstr(constr, name=\"\")``` method. \n",
    "- In this case, the constraints are linear and here, we should use the ```model.addLConstr(constr, name=\"\")``` method.\n",
    "- Here, it's important to store the constraints in a meaningful way so you can easily access specific dual variables after solving.\n",
    "- Note, that in the ```GRB```module, you can find the three signs ```GRB.GREATER_EQUAL```, ```GRB.EQUAL```, and ```GRB.LESS_EQUAL```."
   ]
  },
  {
   "cell_type": "code",
   "metadata": {
    "ExecuteTime": {
     "end_time": "2024-09-14T16:39:38.405255Z",
     "start_time": "2024-09-14T16:39:38.391166Z"
    }
   },
   "source": [
    "constraint_1 = model.addLConstr(0.6*x_1 + 0.2*x_2, GRB.GREATER_EQUAL, 60, name='constraint_1')\n",
    "constraint_2 = model.addLConstr(0.4*x_1 + 0.8*x_2, GRB.GREATER_EQUAL, 100, name='constraint_2')"
   ],
   "outputs": [],
   "execution_count": 5
  },
  {
   "cell_type": "markdown",
   "metadata": {},
   "source": [
    "- We define the objective function with the method ```model.setObjective(expr, sense=None)```.\n",
    "- <b>Remember to set the ```sense``` argument!<b>"
   ]
  },
  {
   "cell_type": "code",
   "metadata": {
    "ExecuteTime": {
     "end_time": "2024-09-14T16:39:39.159936Z",
     "start_time": "2024-09-14T16:39:39.157393Z"
    }
   },
   "source": [
    "model.setObjective(30*x_1 + 20*x_2, GRB.MINIMIZE)"
   ],
   "outputs": [],
   "execution_count": 6
  },
  {
   "cell_type": "markdown",
   "metadata": {},
   "source": [
    "- Now, we can solve the optimization problem with the method ```model.optimize```."
   ]
  },
  {
   "cell_type": "code",
   "metadata": {
    "ExecuteTime": {
     "end_time": "2024-09-14T16:39:43.136675Z",
     "start_time": "2024-09-14T16:39:43.124486Z"
    }
   },
   "source": [
    "model.optimize()"
   ],
   "outputs": [
    {
     "name": "stdout",
     "output_type": "stream",
     "text": [
      "Gurobi Optimizer version 11.0.3 build v11.0.3rc0 (linux64 - \"Ubuntu 22.04.3 LTS\")\n",
      "\n",
      "CPU model: AMD Ryzen 7 7840U with Radeon 780M Graphics, instruction set [SSE2|AVX|AVX2|AVX512]\n",
      "Thread count: 8 physical cores, 16 logical processors, using up to 16 threads\n",
      "\n",
      "Optimize a model with 2 rows, 2 columns and 4 nonzeros\n",
      "Model fingerprint: 0x20d42a0c\n",
      "Coefficient statistics:\n",
      "  Matrix range     [2e-01, 8e-01]\n",
      "  Objective range  [2e+01, 3e+01]\n",
      "  Bounds range     [0e+00, 0e+00]\n",
      "  RHS range        [6e+01, 1e+02]\n",
      "Presolve time: 0.00s\n",
      "Presolved: 2 rows, 2 columns, 4 nonzeros\n",
      "\n",
      "Iteration    Objective       Primal Inf.    Dual Inf.      Time\n",
      "       0    0.0000000e+00   1.600000e+02   0.000000e+00      0s\n",
      "       2    3.9000000e+03   0.000000e+00   0.000000e+00      0s\n",
      "\n",
      "Solved in 2 iterations and 0.00 seconds (0.00 work units)\n",
      "Optimal objective  3.900000000e+03\n"
     ]
    }
   ],
   "execution_count": 7
  },
  {
   "cell_type": "markdown",
   "metadata": {},
   "source": [
    "- We can check whether the problem was solved to optimality with ```model.status```.\n",
    "- If so, we retrieve optimal objective function with ```model.ObjVal``` \n",
    "- and optimal primal and dual variable values with ```var.x``` and ```constr.Pi```, respectively."
   ]
  },
  {
   "cell_type": "code",
   "metadata": {
    "ExecuteTime": {
     "end_time": "2024-09-14T16:40:23.350413Z",
     "start_time": "2024-09-14T16:40:23.347201Z"
    }
   },
   "source": [
    "if model.status == GRB.OPTIMAL:\n",
    "    optimal_objective = model.ObjVal\n",
    "    optimal_x_1 = x_1.x\n",
    "    optimal_x_2 = x_2.x\n",
    "    optimal_dual_1 = constraint_1.Pi\n",
    "    optimal_dual_2 = constraint_2.Pi\n",
    "    print(f\"optimal objective: {optimal_objective}\")\n",
    "    print(f\"optimal value of {x_1.VarName}: {optimal_x_1}\")\n",
    "    print(f\"optimal value of {x_2.VarName}: {optimal_x_2}\")\n",
    "    print(f\"optimal value of dual for {constraint_1.constrName}: {optimal_dual_1}\")\n",
    "    print(f\"optimal value of dual for {constraint_2.constrName}: {optimal_dual_2}\")\n",
    "else:\n",
    "    print(f\"optimization of {model.ModelName} was not successful\")"
   ],
   "outputs": [
    {
     "name": "stdout",
     "output_type": "stream",
     "text": [
      "optimal objective: 3900.0\n",
      "optimal value of x_1: 70.0\n",
      "optimal value of x_2: 90.0\n",
      "optimal value of dual for constraint_1: 40.0\n",
      "optimal value of dual for constraint_2: 15.0\n"
     ]
    }
   ],
   "execution_count": 8
  },
  {
   "cell_type": "markdown",
   "metadata": {},
   "source": [
    "## 3 Task: Bestas' problem"
   ]
  },
  {
   "cell_type": "markdown",
   "metadata": {},
   "source": [
    "Now, let's solve Bestas' problem from Exercise 1: \n",
    "\n",
    "$$\n",
    "  \\begin{align}\n",
    "      \\max_{x^E, x^H} \\quad &10x^E + 15x^H \\\\\n",
    "      \\textrm{subject to} \\quad &x^E + \\frac{x^H}{0.8} \\leq 200 \\\\\n",
    "      &x^E \\leq 100 \\\\\n",
    "      &x^H \\leq 100 \\\\\n",
    "      &x^E \\geq 0, x^H \\geq 0\n",
    "  \\end{align}\n",
    "$$"
   ]
  },
  {
   "cell_type": "markdown",
   "metadata": {},
   "source": [
    "- In the same way as in step 2, please initialize and solve the problem using ```gurobipy```."
   ]
  },
  {
   "cell_type": "code",
   "execution_count": null,
   "metadata": {},
   "outputs": [],
   "source": [
    "# Initialize and solve problem here\n"
   ]
  },
  {
   "cell_type": "markdown",
   "metadata": {},
   "source": [
    "## 4 Task: General formulation "
   ]
  },
  {
   "cell_type": "markdown",
   "metadata": {},
   "source": [
    "These problems can be expressed in a more general way by defining the inputs before-hand and making the rest of the code more general. <br>\n",
    "Here is a general formulation of Morten's problem. \n",
    "- Please check that the solution corresponds to the one in section 2."
   ]
  },
  {
   "cell_type": "code",
   "execution_count": null,
   "metadata": {},
   "outputs": [],
   "source": [
    "# Set values of input parameters\n",
    "VARIABLES = ['x1', 'x2']\n",
    "objective_coeff = {'x1': 30, 'x2': 20} # Coefficients in objective function\n",
    "constraints_coeff = {'x1': [0.6, 0.4], 'x2': [0.2, 0.8]} # Linear coefficients of constraints\n",
    "constraints_rhs = [60, 100]# Right hand side coefficients of constraints\n",
    "constraints_sense =  [GRB.GREATER_EQUAL, GRB.GREATER_EQUAL] # Direction of constraints\n",
    "\n",
    "model = gp.Model(\"Mortens problem\")\n",
    "\n",
    "# Add variables to the Gurobi model\n",
    "variables = {v: model.addVar(lb=0, name='Total production of CHP {0}'.format(v)) for v in VARIABLES}\n",
    "\n",
    "# Set objective function and optimization direction of the Gurobi model\n",
    "objective = gp.quicksum(objective_coeff[v] * variables[v] for v in VARIABLES)         \n",
    "model.setObjective(objective, GRB.MINIMIZE)\n",
    "\n",
    "# Add constraints to the Gurobi model\n",
    "constraints = [\n",
    "        (\n",
    "                model.addLConstr(\n",
    "                        gp.quicksum(constraints_coeff[v][i] * variables[v] for v in VARIABLES),\n",
    "                        constraints_sense[i],\n",
    "                        constraints_rhs[i]\n",
    "                )\n",
    "        ) for i in range(len(constraints_rhs))\n",
    "]\n",
    "\n",
    "# Optimize the Gurobi model\n",
    "model.optimize()\n",
    "\n",
    "# Check if the optimization was successful and print solutions\n",
    "if model.status == GRB.OPTIMAL:\n",
    "        print()\n",
    "        print('-------------------   RESULTS  -------------------')\n",
    "        optimal_variables = {v: variables[v].x for v in VARIABLES} # Save optimal values of decision variables\n",
    "        optimal_objective = model.objVal # Save optimal value of objective function\n",
    "        print(\"Optimal objective:\", optimal_objective)\n",
    "        for v in VARIABLES:\n",
    "                print('Optimal {0}:'.format(v), optimal_variables[v])\n",
    "else:\n",
    "        print(\"Optimization was not successful\")"
   ]
  },
  {
   "cell_type": "markdown",
   "metadata": {},
   "source": [
    "- Now, use the general formulation to solve Bestas' problem (see section 3)."
   ]
  },
  {
   "cell_type": "code",
   "execution_count": null,
   "metadata": {},
   "outputs": [],
   "source": [
    "# Use general formulation here\n",
    "\n"
   ]
  },
  {
   "cell_type": "markdown",
   "metadata": {},
   "source": [
    "## 5 What is object-oriented programming?"
   ]
  },
  {
   "cell_type": "markdown",
   "metadata": {},
   "source": [
    "- Object-oriented programming (OOP) is a very powerful tool to structure large optimization problems. \n",
    "- In this section, key concepts within OOP are introduced and in the next section, they are applied to the example problem from section 2."
   ]
  },
  {
   "cell_type": "markdown",
   "metadata": {},
   "source": [
    "#### 5.1 Classes \n",
    "OOP is all about classes. We'll use the class ```Dog``` (below) as a basis to discuss key concepts."
   ]
  },
  {
   "cell_type": "code",
   "execution_count": null,
   "metadata": {},
   "outputs": [],
   "source": [
    "class Dog:\n",
    "\n",
    "    def __init__(self, breed: str, age: int):\n",
    "        self.breed = breed\n",
    "        self.age = age \n",
    "    \n",
    "    def bark(self):\n",
    "        if self.breed == 'Bloodhound':\n",
    "            print(\"WOOF WOOF\")\n",
    "        elif self.breed == \"Chihuahua\":\n",
    "            print(\"woof woof\")\n",
    "        else: \n",
    "            raise NotImplementedError(\"I don't know the bark of this dog\")"
   ]
  },
  {
   "cell_type": "markdown",
   "metadata": {},
   "source": [
    "#### 5.2 Instance\n",
    "We can create an object which is an instance of the class by providing the arguments ```breed``` and ```age```."
   ]
  },
  {
   "cell_type": "code",
   "execution_count": null,
   "metadata": {},
   "outputs": [],
   "source": [
    "pluto = Dog('Bloodhound', 94)"
   ]
  },
  {
   "cell_type": "markdown",
   "metadata": {},
   "source": [
    "#### 5.3 ```__init__``` method and attributes\n",
    "When we created the instance ```pluto```, the ```self.__init__``` method was automatically called <br> \n",
    "and the two attributes ```self.breed``` and ```self.age``` were set. Here, ```self```refers to the instance. <br> \n",
    "We can access attributes outside of the class with ```instance.attribute```."
   ]
  },
  {
   "cell_type": "code",
   "execution_count": null,
   "metadata": {},
   "outputs": [],
   "source": [
    "print(pluto.breed)\n",
    "print(pluto.age)"
   ]
  },
  {
   "cell_type": "markdown",
   "metadata": {},
   "source": [
    "#### 5.4 methods\n",
    "Functions defined inside the class are called methods and these can be performed on instances of the class.<br>\n",
    "The methods often use (or alter) attributes like a dog's bark depends on its breed."
   ]
  },
  {
   "cell_type": "code",
   "execution_count": null,
   "metadata": {},
   "outputs": [],
   "source": [
    "print(\"Pluto barks: \")\n",
    "pluto.bark()\n",
    "harajuku = Dog(\"Chihuahua\", 23)\n",
    "print(\"Harajuku barks:\")\n",
    "harajuku.bark()"
   ]
  },
  {
   "cell_type": "markdown",
   "metadata": {},
   "source": [
    "#### 5.5 Inheritance "
   ]
  },
  {
   "cell_type": "markdown",
   "metadata": {},
   "source": [
    "One class (let's call it class 1) can \"extend\" another class (class 2), which means it inherits <br>\n",
    "the attributes and methods of class 2. Quite fittingly, class 2 is refered to as the parent class <br>\n",
    "and class 1, the child class. The class definition looks like this: ```class Child(Parent):```. <br>\n",
    "We continue the dog example below. "
   ]
  },
  {
   "cell_type": "code",
   "execution_count": null,
   "metadata": {},
   "outputs": [],
   "source": [
    "class Chihuahua(Dog):\n",
    "\n",
    "    def __init__(self, age: int, shake: str):\n",
    "        self.breed = \"Chihuahua\"\n",
    "        self.age = age\n",
    "        self.shake = shake"
   ]
  },
  {
   "cell_type": "code",
   "execution_count": null,
   "metadata": {},
   "outputs": [],
   "source": [
    "tinkerbell = Chihuahua(14, 'strong')\n",
    "tinkerbell.bark()"
   ]
  },
  {
   "cell_type": "markdown",
   "metadata": {},
   "source": [
    "- Notice how we can use the method ```Dog.bark()``` as it is defined in the parent class ```Dog```,\n",
    "- and how we introduced a new attribute ```shake``` which is specific to Chihuahuas. "
   ]
  },
  {
   "cell_type": "markdown",
   "metadata": {},
   "source": [
    "## 6 Example: Morten's problem with object-oriented programming"
   ]
  },
  {
   "cell_type": "markdown",
   "metadata": {},
   "source": [
    "Admittedly, it is a bit over the top to use OOP for the example problem. However,<br> \n",
    "in the coming exercises and the project in particular, OOP will be a big help. "
   ]
  },
  {
   "cell_type": "markdown",
   "metadata": {},
   "source": [
    "- Firstly, we introduce a small class named ```Expando``` which allows for instance attributes to have attributes. (It will make sense later :))"
   ]
  },
  {
   "cell_type": "code",
   "execution_count": null,
   "metadata": {},
   "outputs": [],
   "source": [
    "class Expando(object):\n",
    "    '''\n",
    "        A small class which can have attributes set\n",
    "    '''\n",
    "    pass"
   ]
  },
  {
   "cell_type": "markdown",
   "metadata": {},
   "source": [
    "- Then, we define an ```InputData``` class which holds the necessary data for the optimization problem. \n",
    "- Therefore, it has attributes like ```self.VARIABLES```, ```self.objective_coeff```, ```self.constraints_coeff```, etc."
   ]
  },
  {
   "cell_type": "code",
   "execution_count": null,
   "metadata": {},
   "outputs": [],
   "source": [
    "class InputData:\n",
    "\n",
    "    def __init__(\n",
    "        self, \n",
    "        VARIABLES: list,\n",
    "        objective_coeff: list[str, int],    # Coefficients in objective function\n",
    "        constraints_coeff: list[str, int],  # Linear coefficients of constraints\n",
    "        constraints_rhs: list[str, int],    # Right hand side coefficients of constraints\n",
    "        constraints_sense: list[str, int],  # Direction of constraints\n",
    "    ):\n",
    "        self.VARIABLES = VARIABLES\n",
    "        self.objective_coeff = objective_coeff\n",
    "        self.constraints_coeff = constraints_coeff\n",
    "        self.constraints_rhs = constraints_rhs\n",
    "        self.constraints_sense = constraints_sense\n"
   ]
  },
  {
   "cell_type": "markdown",
   "metadata": {},
   "source": [
    "- Now, we can define the class ```OptimizationProblem```, which takes an instance of the InputData class as the only argument and stores it as ```self.data```.\n",
    "- It has methods to build and solve the problem as well as save and display results. "
   ]
  },
  {
   "cell_type": "code",
   "execution_count": null,
   "metadata": {},
   "outputs": [],
   "source": [
    "class OptimizationProblem():\n",
    "\n",
    "    def __init__(self, input_data: InputData): # initialize class\n",
    "        self.data = input_data # define data attributes\n",
    "        self.results = Expando() # define results attributes\n",
    "        self._build_model() # build gurobi model\n",
    "    \n",
    "    def _build_variables(self):\n",
    "        self.variables = {v: self.model.addVar(lb=0, name='Total production of CHP {0}'.format(v)) for v in self.data.VARIABLES}\n",
    "    \n",
    "    def _build_constraints(self):\n",
    "        self.constraints = [\n",
    "            (\n",
    "                self.model.addLConstr(\n",
    "                        gp.quicksum(self.data.constraints_coeff[v][i] * self.variables[v] for v in self.data.VARIABLES),\n",
    "                        self.data.constraints_sense[i],\n",
    "                        self.data.constraints_rhs[i]\n",
    "                )\n",
    "            ) for i in range(len(self.data.constraints_rhs))\n",
    "        ]\n",
    "\n",
    "    def _build_objective_function(self):\n",
    "        objective = gp.quicksum(self.data.objective_coeff[v] * self.variables[v] for v in self.data.VARIABLES)\n",
    "        self.model.setObjective(objective, GRB.MINIMIZE)\n",
    "\n",
    "    def _build_model(self):\n",
    "        self.model = gp.Model(name='Economic dispatch')\n",
    "        self._build_variables()\n",
    "        self._build_objective_function()\n",
    "        self._build_constraints()\n",
    "        self.model.update()\n",
    "    \n",
    "    def _save_results(self):\n",
    "        self.results.objective_value = self.model.ObjVal\n",
    "        self.results.variables = {v: self.variables[v].x for v in self.data.VARIABLES}\n",
    "        self.results.duals = [self.constraints[i].Pi for i in range(len(self.constraints))]\n",
    "\n",
    "    def run(self):\n",
    "        self.model.optimize()\n",
    "        if self.model.status == GRB.OPTIMAL:\n",
    "            self._save_results()\n",
    "        else:\n",
    "            print(f\"optimization of {model.ModelName} was not successful\")\n",
    "    \n",
    "    def display_results(self):\n",
    "        print()\n",
    "        print(\"-------------------   RESULTS  -------------------\")\n",
    "        print(\"Optimal objective value:\")\n",
    "        print(self.results.objective_value)\n",
    "        print(\"Optimal variable values:\")\n",
    "        print(self.results.variables)\n",
    "        print(\"Optimal dual values:\")\n",
    "        print(self.results.duals)"
   ]
  },
  {
   "cell_type": "markdown",
   "metadata": {},
   "source": [
    "- Notice how ```self.results = Expando()``` allows us to save different results in the ```self.results``` attribute, e.g., ```self.results.objective_value```."
   ]
  },
  {
   "cell_type": "markdown",
   "metadata": {},
   "source": [
    "- Below is what corresponds to the ```main``` function where we create instances of the classes and use their methods. "
   ]
  },
  {
   "cell_type": "code",
   "execution_count": null,
   "metadata": {},
   "outputs": [],
   "source": [
    "# This corresponds to the main function\n",
    "input_data = InputData(\n",
    "    VARIABLES = ['x1', 'x2'],\n",
    "    objective_coeff = {'x1': 30, 'x2': 20},\n",
    "    constraints_coeff = {'x1': [0.6, 0.4], 'x2': [0.2, 0.8]},\n",
    "    constraints_rhs = [60, 100],\n",
    "    constraints_sense =  [GRB.GREATER_EQUAL, GRB.GREATER_EQUAL],\n",
    ")\n",
    "problem = OptimizationProblem(input_data)\n",
    "problem.run()\n",
    "problem.display_results()"
   ]
  }
 ],
 "metadata": {
  "kernelspec": {
   "display_name": "Bachelor",
   "language": "python",
   "name": "python3"
  },
  "language_info": {
   "codemirror_mode": {
    "name": "ipython",
    "version": 3
   },
   "file_extension": ".py",
   "mimetype": "text/x-python",
   "name": "python",
   "nbconvert_exporter": "python",
   "pygments_lexer": "ipython3",
   "version": "3.11.4"
  }
 },
 "nbformat": 4,
 "nbformat_minor": 2
}
